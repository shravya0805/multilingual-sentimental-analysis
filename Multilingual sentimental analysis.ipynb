{
  "nbformat": 4,
  "nbformat_minor": 0,
  "metadata": {
    "colab": {
      "name": "NLPDATA.ipynb",
      "provenance": [],
      "collapsed_sections": []
    },
    "kernelspec": {
      "name": "python3",
      "display_name": "Python 3"
    },
    "language_info": {
      "name": "python"
    }
  },
  "cells": [
    {
      "cell_type": "code",
      "execution_count": null,
      "metadata": {
        "id": "mFmoJLOMYprZ"
      },
      "outputs": [],
      "source": [
        "import pandas as pd\n",
        "import numpy as np\n",
        "import time\n",
        "import matplotlib.pyplot as plt"
      ]
    },
    {
      "cell_type": "code",
      "source": [
        "data = pd.read_csv(\"data.csv\")\n",
        "data"
      ],
      "metadata": {
        "colab": {
          "base_uri": "https://localhost:8080/",
          "height": 424
        },
        "id": "6inpPuAcY2J2",
        "outputId": "96736841-bec5-4b6d-fc2a-71d371fb72a3"
      },
      "execution_count": null,
      "outputs": [
        {
          "output_type": "execute_result",
          "data": {
            "text/plain": [
              "       Sl no                                             Tweets  \\\n",
              "0          1   #1: @fe ed \"RT @MirayaDizon1: Time is ticking...   \n",
              "1          2   #2: @蓮花 &はすか ed \"RT @ninjaryugo: ＃コナモンの日 だそうで...   \n",
              "2          3   #3: @Ris ♡ ed \"Happy birthday to one smokin h...   \n",
              "3          4   #4: @월월 [씍쯴사랑로봇] jwinnie is the best, cheer u...   \n",
              "4          5   #5: @Madhurima wth u vc♥ ed \"Good morning dea...   \n",
              "...      ...                                                ...   \n",
              "10012  10016  Tweet #85: @Matteo tweeted \"@GameSpot @Frannkc...   \n",
              "10013  10017  Tweet #86: @𝐚𝐧𝐢𝐬𝐭𝐨𝐧 tweeted \"@BRATgiirl_ that’...   \n",
              "10014  10018  Tweet #87: @Chowkidar Ricky Sharma tweeted \"@M...   \n",
              "10015  10019  Tweet #88: @Katoe.EXE tweeted \"u know what i h...   \n",
              "10016  10019  Tweet #88: @Katoe.EXE tweeted \"u know what i h...   \n",
              "\n",
              "          Search key Feeling  \n",
              "0      happy moments   happy  \n",
              "1      happy moments   happy  \n",
              "2      happy moments   happy  \n",
              "3      happy moments   happy  \n",
              "4      happy moments   happy  \n",
              "...              ...     ...  \n",
              "10012     irritating   angry  \n",
              "10013     irritating   angry  \n",
              "10014     irritating   angry  \n",
              "10015     irritating   angry  \n",
              "10016     irritating   angry  \n",
              "\n",
              "[10017 rows x 4 columns]"
            ],
            "text/html": [
              "\n",
              "  <div id=\"df-112106bb-825c-4f0b-818e-c4ab8192baf4\">\n",
              "    <div class=\"colab-df-container\">\n",
              "      <div>\n",
              "<style scoped>\n",
              "    .dataframe tbody tr th:only-of-type {\n",
              "        vertical-align: middle;\n",
              "    }\n",
              "\n",
              "    .dataframe tbody tr th {\n",
              "        vertical-align: top;\n",
              "    }\n",
              "\n",
              "    .dataframe thead th {\n",
              "        text-align: right;\n",
              "    }\n",
              "</style>\n",
              "<table border=\"1\" class=\"dataframe\">\n",
              "  <thead>\n",
              "    <tr style=\"text-align: right;\">\n",
              "      <th></th>\n",
              "      <th>Sl no</th>\n",
              "      <th>Tweets</th>\n",
              "      <th>Search key</th>\n",
              "      <th>Feeling</th>\n",
              "    </tr>\n",
              "  </thead>\n",
              "  <tbody>\n",
              "    <tr>\n",
              "      <th>0</th>\n",
              "      <td>1</td>\n",
              "      <td>#1: @fe ed \"RT @MirayaDizon1: Time is ticking...</td>\n",
              "      <td>happy moments</td>\n",
              "      <td>happy</td>\n",
              "    </tr>\n",
              "    <tr>\n",
              "      <th>1</th>\n",
              "      <td>2</td>\n",
              "      <td>#2: @蓮花 &amp;はすか ed \"RT @ninjaryugo: ＃コナモンの日 だそうで...</td>\n",
              "      <td>happy moments</td>\n",
              "      <td>happy</td>\n",
              "    </tr>\n",
              "    <tr>\n",
              "      <th>2</th>\n",
              "      <td>3</td>\n",
              "      <td>#3: @Ris ♡ ed \"Happy birthday to one smokin h...</td>\n",
              "      <td>happy moments</td>\n",
              "      <td>happy</td>\n",
              "    </tr>\n",
              "    <tr>\n",
              "      <th>3</th>\n",
              "      <td>4</td>\n",
              "      <td>#4: @월월 [씍쯴사랑로봇] jwinnie is the best, cheer u...</td>\n",
              "      <td>happy moments</td>\n",
              "      <td>happy</td>\n",
              "    </tr>\n",
              "    <tr>\n",
              "      <th>4</th>\n",
              "      <td>5</td>\n",
              "      <td>#5: @Madhurima wth u vc♥ ed \"Good morning dea...</td>\n",
              "      <td>happy moments</td>\n",
              "      <td>happy</td>\n",
              "    </tr>\n",
              "    <tr>\n",
              "      <th>...</th>\n",
              "      <td>...</td>\n",
              "      <td>...</td>\n",
              "      <td>...</td>\n",
              "      <td>...</td>\n",
              "    </tr>\n",
              "    <tr>\n",
              "      <th>10012</th>\n",
              "      <td>10016</td>\n",
              "      <td>Tweet #85: @Matteo tweeted \"@GameSpot @Frannkc...</td>\n",
              "      <td>irritating</td>\n",
              "      <td>angry</td>\n",
              "    </tr>\n",
              "    <tr>\n",
              "      <th>10013</th>\n",
              "      <td>10017</td>\n",
              "      <td>Tweet #86: @𝐚𝐧𝐢𝐬𝐭𝐨𝐧 tweeted \"@BRATgiirl_ that’...</td>\n",
              "      <td>irritating</td>\n",
              "      <td>angry</td>\n",
              "    </tr>\n",
              "    <tr>\n",
              "      <th>10014</th>\n",
              "      <td>10018</td>\n",
              "      <td>Tweet #87: @Chowkidar Ricky Sharma tweeted \"@M...</td>\n",
              "      <td>irritating</td>\n",
              "      <td>angry</td>\n",
              "    </tr>\n",
              "    <tr>\n",
              "      <th>10015</th>\n",
              "      <td>10019</td>\n",
              "      <td>Tweet #88: @Katoe.EXE tweeted \"u know what i h...</td>\n",
              "      <td>irritating</td>\n",
              "      <td>angry</td>\n",
              "    </tr>\n",
              "    <tr>\n",
              "      <th>10016</th>\n",
              "      <td>10019</td>\n",
              "      <td>Tweet #88: @Katoe.EXE tweeted \"u know what i h...</td>\n",
              "      <td>irritating</td>\n",
              "      <td>angry</td>\n",
              "    </tr>\n",
              "  </tbody>\n",
              "</table>\n",
              "<p>10017 rows × 4 columns</p>\n",
              "</div>\n",
              "      <button class=\"colab-df-convert\" onclick=\"convertToInteractive('df-112106bb-825c-4f0b-818e-c4ab8192baf4')\"\n",
              "              title=\"Convert this dataframe to an interactive table.\"\n",
              "              style=\"display:none;\">\n",
              "        \n",
              "  <svg xmlns=\"http://www.w3.org/2000/svg\" height=\"24px\"viewBox=\"0 0 24 24\"\n",
              "       width=\"24px\">\n",
              "    <path d=\"M0 0h24v24H0V0z\" fill=\"none\"/>\n",
              "    <path d=\"M18.56 5.44l.94 2.06.94-2.06 2.06-.94-2.06-.94-.94-2.06-.94 2.06-2.06.94zm-11 1L8.5 8.5l.94-2.06 2.06-.94-2.06-.94L8.5 2.5l-.94 2.06-2.06.94zm10 10l.94 2.06.94-2.06 2.06-.94-2.06-.94-.94-2.06-.94 2.06-2.06.94z\"/><path d=\"M17.41 7.96l-1.37-1.37c-.4-.4-.92-.59-1.43-.59-.52 0-1.04.2-1.43.59L10.3 9.45l-7.72 7.72c-.78.78-.78 2.05 0 2.83L4 21.41c.39.39.9.59 1.41.59.51 0 1.02-.2 1.41-.59l7.78-7.78 2.81-2.81c.8-.78.8-2.07 0-2.86zM5.41 20L4 18.59l7.72-7.72 1.47 1.35L5.41 20z\"/>\n",
              "  </svg>\n",
              "      </button>\n",
              "      \n",
              "  <style>\n",
              "    .colab-df-container {\n",
              "      display:flex;\n",
              "      flex-wrap:wrap;\n",
              "      gap: 12px;\n",
              "    }\n",
              "\n",
              "    .colab-df-convert {\n",
              "      background-color: #E8F0FE;\n",
              "      border: none;\n",
              "      border-radius: 50%;\n",
              "      cursor: pointer;\n",
              "      display: none;\n",
              "      fill: #1967D2;\n",
              "      height: 32px;\n",
              "      padding: 0 0 0 0;\n",
              "      width: 32px;\n",
              "    }\n",
              "\n",
              "    .colab-df-convert:hover {\n",
              "      background-color: #E2EBFA;\n",
              "      box-shadow: 0px 1px 2px rgba(60, 64, 67, 0.3), 0px 1px 3px 1px rgba(60, 64, 67, 0.15);\n",
              "      fill: #174EA6;\n",
              "    }\n",
              "\n",
              "    [theme=dark] .colab-df-convert {\n",
              "      background-color: #3B4455;\n",
              "      fill: #D2E3FC;\n",
              "    }\n",
              "\n",
              "    [theme=dark] .colab-df-convert:hover {\n",
              "      background-color: #434B5C;\n",
              "      box-shadow: 0px 1px 3px 1px rgba(0, 0, 0, 0.15);\n",
              "      filter: drop-shadow(0px 1px 2px rgba(0, 0, 0, 0.3));\n",
              "      fill: #FFFFFF;\n",
              "    }\n",
              "  </style>\n",
              "\n",
              "      <script>\n",
              "        const buttonEl =\n",
              "          document.querySelector('#df-112106bb-825c-4f0b-818e-c4ab8192baf4 button.colab-df-convert');\n",
              "        buttonEl.style.display =\n",
              "          google.colab.kernel.accessAllowed ? 'block' : 'none';\n",
              "\n",
              "        async function convertToInteractive(key) {\n",
              "          const element = document.querySelector('#df-112106bb-825c-4f0b-818e-c4ab8192baf4');\n",
              "          const dataTable =\n",
              "            await google.colab.kernel.invokeFunction('convertToInteractive',\n",
              "                                                     [key], {});\n",
              "          if (!dataTable) return;\n",
              "\n",
              "          const docLinkHtml = 'Like what you see? Visit the ' +\n",
              "            '<a target=\"_blank\" href=https://colab.research.google.com/notebooks/data_table.ipynb>data table notebook</a>'\n",
              "            + ' to learn more about interactive tables.';\n",
              "          element.innerHTML = '';\n",
              "          dataTable['output_type'] = 'display_data';\n",
              "          await google.colab.output.renderOutput(dataTable, element);\n",
              "          const docLink = document.createElement('div');\n",
              "          docLink.innerHTML = docLinkHtml;\n",
              "          element.appendChild(docLink);\n",
              "        }\n",
              "      </script>\n",
              "    </div>\n",
              "  </div>\n",
              "  "
            ]
          },
          "metadata": {},
          "execution_count": 67
        }
      ]
    },
    {
      "cell_type": "code",
      "source": [
        "data['Tweets'][1]"
      ],
      "metadata": {
        "colab": {
          "base_uri": "https://localhost:8080/",
          "height": 36
        },
        "id": "JpZInhIhANS3",
        "outputId": "c05125f7-e3e3-40d3-bfdc-0c5f4c68bb3c"
      },
      "execution_count": null,
      "outputs": [
        {
          "output_type": "execute_result",
          "data": {
            "text/plain": [
              "' #2: @蓮花 &はすか ed \"RT @ninjaryugo: ＃コナモンの日 だそうで、コナモンさんこと雑渡昆奈門さんのコスプレアクションを再喝＃忍たま ＃落乱https://t.co/Wn24WLfRML\"'"
            ],
            "application/vnd.google.colaboratory.intrinsic+json": {
              "type": "string"
            }
          },
          "metadata": {},
          "execution_count": 68
        }
      ]
    },
    {
      "cell_type": "code",
      "source": [
        "data['Tweets'][3]"
      ],
      "metadata": {
        "colab": {
          "base_uri": "https://localhost:8080/",
          "height": 53
        },
        "id": "kjHT_aSSZFFu",
        "outputId": "4320718f-a8d6-4873-c717-f9de4dfd92e9"
      },
      "execution_count": null,
      "outputs": [
        {
          "output_type": "execute_result",
          "data": {
            "text/plain": [
              "' #4: @월월 [씍쯴사랑로봇] jwinnie is the best, cheer up jwinnie ed \"Omg I left for 2 min and 50-100 msgs ajdjsjs I cant save em all but I\\'m so happy 😆😆🥰 moments like these will be ones I treasure for a long time idk why but it makes me so happy 😭😭😭\"'"
            ],
            "application/vnd.google.colaboratory.intrinsic+json": {
              "type": "string"
            }
          },
          "metadata": {},
          "execution_count": 69
        }
      ]
    },
    {
      "cell_type": "code",
      "source": [
        "data.info()"
      ],
      "metadata": {
        "colab": {
          "base_uri": "https://localhost:8080/"
        },
        "id": "2DQ9mK8sZUyP",
        "outputId": "3090541d-ac27-447d-c05f-209264d7cef4"
      },
      "execution_count": null,
      "outputs": [
        {
          "output_type": "stream",
          "name": "stdout",
          "text": [
            "<class 'pandas.core.frame.DataFrame'>\n",
            "RangeIndex: 10017 entries, 0 to 10016\n",
            "Data columns (total 4 columns):\n",
            " #   Column      Non-Null Count  Dtype \n",
            "---  ------      --------------  ----- \n",
            " 0   Sl no       10017 non-null  int64 \n",
            " 1   Tweets      10017 non-null  object\n",
            " 2   Search key  10017 non-null  object\n",
            " 3   Feeling     10017 non-null  object\n",
            "dtypes: int64(1), object(3)\n",
            "memory usage: 313.2+ KB\n"
          ]
        }
      ]
    },
    {
      "cell_type": "code",
      "source": [
        "np.sum(pd.isnull(data))"
      ],
      "metadata": {
        "colab": {
          "base_uri": "https://localhost:8080/"
        },
        "id": "R-0M8g89O6qp",
        "outputId": "d54d4795-b970-4935-e09d-4d2d9395fddb"
      },
      "execution_count": null,
      "outputs": [
        {
          "output_type": "execute_result",
          "data": {
            "text/plain": [
              "Sl no         0\n",
              "Tweets        0\n",
              "Search key    0\n",
              "Feeling       0\n",
              "dtype: int64"
            ]
          },
          "metadata": {},
          "execution_count": 71
        }
      ]
    },
    {
      "cell_type": "code",
      "source": [
        "data['Feeling'].hist()"
      ],
      "metadata": {
        "colab": {
          "base_uri": "https://localhost:8080/",
          "height": 282
        },
        "id": "vgXVK8-a96Jj",
        "outputId": "d96d8841-5a3c-44df-c7f0-8e63b9e9bf13"
      },
      "execution_count": null,
      "outputs": [
        {
          "output_type": "execute_result",
          "data": {
            "text/plain": [
              "<matplotlib.axes._subplots.AxesSubplot at 0x7fe59720a750>"
            ]
          },
          "metadata": {},
          "execution_count": 72
        },
        {
          "output_type": "display_data",
          "data": {
            "text/plain": [
              "<Figure size 432x288 with 1 Axes>"
            ],
            "image/png": "[encoded data removed]"
          },
          "metadata": {
            "needs_background": "light"
          }
        }
      ]
    },
    {
      "cell_type": "code",
      "source": [
        "pip install deep-translator"
      ],
      "metadata": {
        "colab": {
          "base_uri": "https://localhost:8080/"
        },
        "id": "7luxUdMq90d9",
        "outputId": "9bbcb209-f411-4a87-aadd-9b06694f8258"
      },
      "execution_count": null,
      "outputs": [
        {
          "output_type": "stream",
          "name": "stdout",
          "text": [
            "Requirement already satisfied: deep-translator in /usr/local/lib/python3.7/dist-packages (1.8.3)\n",
            "Requirement already satisfied: requests<3.0.0,>=2.23.0 in /usr/local/lib/python3.7/dist-packages (from deep-translator) (2.23.0)\n",
            "Requirement already satisfied: beautifulsoup4<5.0.0,>=4.9.1 in /usr/local/lib/python3.7/dist-packages (from deep-translator) (4.11.1)\n",
            "Requirement already satisfied: soupsieve>1.2 in /usr/local/lib/python3.7/dist-packages (from beautifulsoup4<5.0.0,>=4.9.1->deep-translator) (2.3.2.post1)\n",
            "Requirement already satisfied: urllib3!=1.25.0,!=1.25.1,<1.26,>=1.21.1 in /usr/local/lib/python3.7/dist-packages (from requests<3.0.0,>=2.23.0->deep-translator) (1.24.3)\n",
            "Requirement already satisfied: idna<3,>=2.5 in /usr/local/lib/python3.7/dist-packages (from requests<3.0.0,>=2.23.0->deep-translator) (2.10)\n",
            "Requirement already satisfied: certifi>=2017.4.17 in /usr/local/lib/python3.7/dist-packages (from requests<3.0.0,>=2.23.0->deep-translator) (2021.10.8)\n",
            "Requirement already satisfied: chardet<4,>=3.0.2 in /usr/local/lib/python3.7/dist-packages (from requests<3.0.0,>=2.23.0->deep-translator) (3.0.4)\n"
          ]
        }
      ]
    },
    {
      "cell_type": "code",
      "source": [
        "from deep_translator import GoogleTranslator\n",
        "to_translate = '#2: @蓮花 &はすか ed RT @ninjaryugo: ＃コナモンの日 だそうで、コナモンさんこと雑渡昆奈門さんのコスプレアクションを再喝＃忍たま ＃落乱https://t.co/Wn24WLfRML'\n",
        "translated = GoogleTranslator(source='auto', target='en').translate(to_translate)\n",
        "translated"
      ],
      "metadata": {
        "colab": {
          "base_uri": "https://localhost:8080/",
          "height": 36
        },
        "id": "-VOCus3cFWg-",
        "outputId": "d90598e8-5265-4c03-bbb4-b14a23b24322"
      },
      "execution_count": null,
      "outputs": [
        {
          "output_type": "execute_result",
          "data": {
            "text/plain": [
              "\"# 2: @ Lotus Flower & Hasuka ed RT @ninjaryugo: # It seems that it's Konamon's day, so I reiterated the cosplay action of Mr. Konamon and Mr. Kunnamon Zawatari.\""
            ],
            "application/vnd.google.colaboratory.intrinsic+json": {
              "type": "string"
            }
          },
          "metadata": {},
          "execution_count": 74
        }
      ]
    },
    {
      "cell_type": "code",
      "source": [
        "from deep_translator import GoogleTranslator\n",
        "def tr(to_translate):\n",
        "  translated = GoogleTranslator(source='auto', target='en').translate(to_translate)\n",
        "  return translated"
      ],
      "metadata": {
        "id": "02LBzQqDFe5H"
      },
      "execution_count": null,
      "outputs": []
    },
    {
      "cell_type": "code",
      "source": [
        "data['TT'] = data['Tweets'].apply(tr)\n",
        "data"
      ],
      "metadata": {
        "colab": {
          "base_uri": "https://localhost:8080/",
          "height": 424
        },
        "id": "9LOrRyH-Fe1_",
        "outputId": "c75f52c1-6c8a-4cf1-dcb0-32be23932f79"
      },
      "execution_count": null,
      "outputs": [
        {
          "output_type": "execute_result",
          "data": {
            "text/plain": [
              "       Sl no                                             Tweets  \\\n",
              "0          1   #1: @fe ed \"RT @MirayaDizon1: Time is ticking...   \n",
              "1          2   #2: @蓮花 &はすか ed \"RT @ninjaryugo: ＃コナモンの日 だそうで...   \n",
              "2          3   #3: @Ris ♡ ed \"Happy birthday to one smokin h...   \n",
              "3          4   #4: @월월 [씍쯴사랑로봇] jwinnie is the best, cheer u...   \n",
              "4          5   #5: @Madhurima wth u vc♥ ed \"Good morning dea...   \n",
              "...      ...                                                ...   \n",
              "10012  10016  Tweet #85: @Matteo tweeted \"@GameSpot @Frannkc...   \n",
              "10013  10017  Tweet #86: @𝐚𝐧𝐢𝐬𝐭𝐨𝐧 tweeted \"@BRATgiirl_ that’...   \n",
              "10014  10018  Tweet #87: @Chowkidar Ricky Sharma tweeted \"@M...   \n",
              "10015  10019  Tweet #88: @Katoe.EXE tweeted \"u know what i h...   \n",
              "10016  10019  Tweet #88: @Katoe.EXE tweeted \"u know what i h...   \n",
              "\n",
              "          Search key Feeling  \\\n",
              "0      happy moments   happy   \n",
              "1      happy moments   happy   \n",
              "2      happy moments   happy   \n",
              "3      happy moments   happy   \n",
              "4      happy moments   happy   \n",
              "...              ...     ...   \n",
              "10012     irritating   angry   \n",
              "10013     irritating   angry   \n",
              "10014     irritating   angry   \n",
              "10015     irritating   angry   \n",
              "10016     irritating   angry   \n",
              "\n",
              "                                                      TT  \n",
              "0      #1: @fe ed \"RT @MirayaDizon1: Time is ticking ...  \n",
              "1      # 2: @ Lotus Flower & Hasuka ed \"RT @ninjaryug...  \n",
              "2      #3: @Ris ♡ ed \"Happy birthday to one smokin ho...  \n",
              "3      #4: @월월 [씍쯴사랑로봇] jwinnie is the best, cheer up...  \n",
              "4      #5: @Madhurima wth u vc♥ ed \"Good morning dear...  \n",
              "...                                                  ...  \n",
              "10012  Tweet #85: @Matteo tweeted \"@GameSpot @Frannkc...  \n",
              "10013  Tweet #86: @𝐚𝐧𝐢𝐬𝐭𝐨𝐧 tweeted \"@BRATgiirl_ that’...  \n",
              "10014  Tweet #87: @Chowkidar Ricky Sharma tweeted \"@M...  \n",
              "10015  Tweet #88: @Katoe.EXE tweeted \"u know what i h...  \n",
              "10016  Tweet #88: @Katoe.EXE tweeted \"u know what i h...  \n",
              "\n",
              "[10017 rows x 5 columns]"
            ],
            "text/html": [
              "\n",
              "  <div id=\"df-12cdb368-cf9f-4dd8-96d0-da46fff61acf\">\n",
              "    <div class=\"colab-df-container\">\n",
              "      <div>\n",
              "<style scoped>\n",
              "    .dataframe tbody tr th:only-of-type {\n",
              "        vertical-align: middle;\n",
              "    }\n",
              "\n",
              "    .dataframe tbody tr th {\n",
              "        vertical-align: top;\n",
              "    }\n",
              "\n",
              "    .dataframe thead th {\n",
              "        text-align: right;\n",
              "    }\n",
              "</style>\n",
              "<table border=\"1\" class=\"dataframe\">\n",
              "  <thead>\n",
              "    <tr style=\"text-align: right;\">\n",
              "      <th></th>\n",
              "      <th>Sl no</th>\n",
              "      <th>Tweets</th>\n",
              "      <th>Search key</th>\n",
              "      <th>Feeling</th>\n",
              "      <th>TT</th>\n",
              "    </tr>\n",
              "  </thead>\n",
              "  <tbody>\n",
              "    <tr>\n",
              "      <th>0</th>\n",
              "      <td>1</td>\n",
              "      <td>#1: @fe ed \"RT @MirayaDizon1: Time is ticking...</td>\n",
              "      <td>happy moments</td>\n",
              "      <td>happy</td>\n",
              "      <td>#1: @fe ed \"RT @MirayaDizon1: Time is ticking ...</td>\n",
              "    </tr>\n",
              "    <tr>\n",
              "      <th>1</th>\n",
              "      <td>2</td>\n",
              "      <td>#2: @蓮花 &amp;はすか ed \"RT @ninjaryugo: ＃コナモンの日 だそうで...</td>\n",
              "      <td>happy moments</td>\n",
              "      <td>happy</td>\n",
              "      <td># 2: @ Lotus Flower &amp; Hasuka ed \"RT @ninjaryug...</td>\n",
              "    </tr>\n",
              "    <tr>\n",
              "      <th>2</th>\n",
              "      <td>3</td>\n",
              "      <td>#3: @Ris ♡ ed \"Happy birthday to one smokin h...</td>\n",
              "      <td>happy moments</td>\n",
              "      <td>happy</td>\n",
              "      <td>#3: @Ris ♡ ed \"Happy birthday to one smokin ho...</td>\n",
              "    </tr>\n",
              "    <tr>\n",
              "      <th>3</th>\n",
              "      <td>4</td>\n",
              "      <td>#4: @월월 [씍쯴사랑로봇] jwinnie is the best, cheer u...</td>\n",
              "      <td>happy moments</td>\n",
              "      <td>happy</td>\n",
              "      <td>#4: @월월 [씍쯴사랑로봇] jwinnie is the best, cheer up...</td>\n",
              "    </tr>\n",
              "    <tr>\n",
              "      <th>4</th>\n",
              "      <td>5</td>\n",
              "      <td>#5: @Madhurima wth u vc♥ ed \"Good morning dea...</td>\n",
              "      <td>happy moments</td>\n",
              "      <td>happy</td>\n",
              "      <td>#5: @Madhurima wth u vc♥ ed \"Good morning dear...</td>\n",
              "    </tr>\n",
              "    <tr>\n",
              "      <th>...</th>\n",
              "      <td>...</td>\n",
              "      <td>...</td>\n",
              "      <td>...</td>\n",
              "      <td>...</td>\n",
              "      <td>...</td>\n",
              "    </tr>\n",
              "    <tr>\n",
              "      <th>10012</th>\n",
              "      <td>10016</td>\n",
              "      <td>Tweet #85: @Matteo tweeted \"@GameSpot @Frannkc...</td>\n",
              "      <td>irritating</td>\n",
              "      <td>angry</td>\n",
              "      <td>Tweet #85: @Matteo tweeted \"@GameSpot @Frannkc...</td>\n",
              "    </tr>\n",
              "    <tr>\n",
              "      <th>10013</th>\n",
              "      <td>10017</td>\n",
              "      <td>Tweet #86: @𝐚𝐧𝐢𝐬𝐭𝐨𝐧 tweeted \"@BRATgiirl_ that’...</td>\n",
              "      <td>irritating</td>\n",
              "      <td>angry</td>\n",
              "      <td>Tweet #86: @𝐚𝐧𝐢𝐬𝐭𝐨𝐧 tweeted \"@BRATgiirl_ that’...</td>\n",
              "    </tr>\n",
              "    <tr>\n",
              "      <th>10014</th>\n",
              "      <td>10018</td>\n",
              "      <td>Tweet #87: @Chowkidar Ricky Sharma tweeted \"@M...</td>\n",
              "      <td>irritating</td>\n",
              "      <td>angry</td>\n",
              "      <td>Tweet #87: @Chowkidar Ricky Sharma tweeted \"@M...</td>\n",
              "    </tr>\n",
              "    <tr>\n",
              "      <th>10015</th>\n",
              "      <td>10019</td>\n",
              "      <td>Tweet #88: @Katoe.EXE tweeted \"u know what i h...</td>\n",
              "      <td>irritating</td>\n",
              "      <td>angry</td>\n",
              "      <td>Tweet #88: @Katoe.EXE tweeted \"u know what i h...</td>\n",
              "    </tr>\n",
              "    <tr>\n",
              "      <th>10016</th>\n",
              "      <td>10019</td>\n",
              "      <td>Tweet #88: @Katoe.EXE tweeted \"u know what i h...</td>\n",
              "      <td>irritating</td>\n",
              "      <td>angry</td>\n",
              "      <td>Tweet #88: @Katoe.EXE tweeted \"u know what i h...</td>\n",
              "    </tr>\n",
              "  </tbody>\n",
              "</table>\n",
              "<p>10017 rows × 5 columns</p>\n",
              "</div>\n",
              "      <button class=\"colab-df-convert\" onclick=\"convertToInteractive('df-12cdb368-cf9f-4dd8-96d0-da46fff61acf')\"\n",
              "              title=\"Convert this dataframe to an interactive table.\"\n",
              "              style=\"display:none;\">\n",
              "        \n",
              "  <svg xmlns=\"http://www.w3.org/2000/svg\" height=\"24px\"viewBox=\"0 0 24 24\"\n",
              "       width=\"24px\">\n",
              "    <path d=\"M0 0h24v24H0V0z\" fill=\"none\"/>\n",
              "    <path d=\"M18.56 5.44l.94 2.06.94-2.06 2.06-.94-2.06-.94-.94-2.06-.94 2.06-2.06.94zm-11 1L8.5 8.5l.94-2.06 2.06-.94-2.06-.94L8.5 2.5l-.94 2.06-2.06.94zm10 10l.94 2.06.94-2.06 2.06-.94-2.06-.94-.94-2.06-.94 2.06-2.06.94z\"/><path d=\"M17.41 7.96l-1.37-1.37c-.4-.4-.92-.59-1.43-.59-.52 0-1.04.2-1.43.59L10.3 9.45l-7.72 7.72c-.78.78-.78 2.05 0 2.83L4 21.41c.39.39.9.59 1.41.59.51 0 1.02-.2 1.41-.59l7.78-7.78 2.81-2.81c.8-.78.8-2.07 0-2.86zM5.41 20L4 18.59l7.72-7.72 1.47 1.35L5.41 20z\"/>\n",
              "  </svg>\n",
              "      </button>\n",
              "      \n",
              "  <style>\n",
              "    .colab-df-container {\n",
              "      display:flex;\n",
              "      flex-wrap:wrap;\n",
              "      gap: 12px;\n",
              "    }\n",
              "\n",
              "    .colab-df-convert {\n",
              "      background-color: #E8F0FE;\n",
              "      border: none;\n",
              "      border-radius: 50%;\n",
              "      cursor: pointer;\n",
              "      display: none;\n",
              "      fill: #1967D2;\n",
              "      height: 32px;\n",
              "      padding: 0 0 0 0;\n",
              "      width: 32px;\n",
              "    }\n",
              "\n",
              "    .colab-df-convert:hover {\n",
              "      background-color: #E2EBFA;\n",
              "      box-shadow: 0px 1px 2px rgba(60, 64, 67, 0.3), 0px 1px 3px 1px rgba(60, 64, 67, 0.15);\n",
              "      fill: #174EA6;\n",
              "    }\n",
              "\n",
              "    [theme=dark] .colab-df-convert {\n",
              "      background-color: #3B4455;\n",
              "      fill: #D2E3FC;\n",
              "    }\n",
              "\n",
              "    [theme=dark] .colab-df-convert:hover {\n",
              "      background-color: #434B5C;\n",
              "      box-shadow: 0px 1px 3px 1px rgba(0, 0, 0, 0.15);\n",
              "      filter: drop-shadow(0px 1px 2px rgba(0, 0, 0, 0.3));\n",
              "      fill: #FFFFFF;\n",
              "    }\n",
              "  </style>\n",
              "\n",
              "      <script>\n",
              "        const buttonEl =\n",
              "          document.querySelector('#df-12cdb368-cf9f-4dd8-96d0-da46fff61acf button.colab-df-convert');\n",
              "        buttonEl.style.display =\n",
              "          google.colab.kernel.accessAllowed ? 'block' : 'none';\n",
              "\n",
              "        async function convertToInteractive(key) {\n",
              "          const element = document.querySelector('#df-12cdb368-cf9f-4dd8-96d0-da46fff61acf');\n",
              "          const dataTable =\n",
              "            await google.colab.kernel.invokeFunction('convertToInteractive',\n",
              "                                                     [key], {});\n",
              "          if (!dataTable) return;\n",
              "\n",
              "          const docLinkHtml = 'Like what you see? Visit the ' +\n",
              "            '<a target=\"_blank\" href=https://colab.research.google.com/notebooks/data_table.ipynb>data table notebook</a>'\n",
              "            + ' to learn more about interactive tables.';\n",
              "          element.innerHTML = '';\n",
              "          dataTable['output_type'] = 'display_data';\n",
              "          await google.colab.output.renderOutput(dataTable, element);\n",
              "          const docLink = document.createElement('div');\n",
              "          docLink.innerHTML = docLinkHtml;\n",
              "          element.appendChild(docLink);\n",
              "        }\n",
              "      </script>\n",
              "    </div>\n",
              "  </div>\n",
              "  "
            ]
          },
          "metadata": {},
          "execution_count": 75
        }
      ]
    },
    {
      "cell_type": "markdown",
      "source": [
        "EMOJI AND EMOTICONS"
      ],
      "metadata": {
        "id": "Q4HeO6sWcfyW"
      }
    },
    {
      "cell_type": "code",
      "source": [
        "pip install emoji"
      ],
      "metadata": {
        "colab": {
          "base_uri": "https://localhost:8080/"
        },
        "id": "Yxyp-2cRgdXK",
        "outputId": "f868773d-5ea2-4cc3-f87d-272a54b0db8b"
      },
      "execution_count": null,
      "outputs": [
        {
          "output_type": "stream",
          "name": "stdout",
          "text": [
            "Collecting emoji\n",
            "  Downloading emoji-1.7.0.tar.gz (175 kB)\n",
            "\u001b[?25l\r\u001b[K     |█▉                              | 10 kB 24.9 MB/s eta 0:00:01\r\u001b[K     |███▊                            | 20 kB 10.8 MB/s eta 0:00:01\r\u001b[K     |█████▋                          | 30 kB 9.2 MB/s eta 0:00:01\r\u001b[K     |███████▌                        | 40 kB 8.3 MB/s eta 0:00:01\r\u001b[K     |█████████▍                      | 51 kB 4.2 MB/s eta 0:00:01\r\u001b[K     |███████████▏                    | 61 kB 4.9 MB/s eta 0:00:01\r\u001b[K     |█████████████                   | 71 kB 5.4 MB/s eta 0:00:01\r\u001b[K     |███████████████                 | 81 kB 5.5 MB/s eta 0:00:01\r\u001b[K     |████████████████▉               | 92 kB 6.1 MB/s eta 0:00:01\r\u001b[K     |██████████████████▊             | 102 kB 4.9 MB/s eta 0:00:01\r\u001b[K     |████████████████████▌           | 112 kB 4.9 MB/s eta 0:00:01\r\u001b[K     |██████████████████████▍         | 122 kB 4.9 MB/s eta 0:00:01\r\u001b[K     |████████████████████████▎       | 133 kB 4.9 MB/s eta 0:00:01\r\u001b[K     |██████████████████████████▏     | 143 kB 4.9 MB/s eta 0:00:01\r\u001b[K     |████████████████████████████    | 153 kB 4.9 MB/s eta 0:00:01\r\u001b[K     |█████████████████████████████▉  | 163 kB 4.9 MB/s eta 0:00:01\r\u001b[K     |███████████████████████████████▊| 174 kB 4.9 MB/s eta 0:00:01\r\u001b[K     |████████████████████████████████| 175 kB 4.9 MB/s \n",
            "\u001b[?25hBuilding wheels for collected packages: emoji\n",
            "  Building wheel for emoji (setup.py) ... \u001b[?25l\u001b[?25hdone\n",
            "  Created wheel for emoji: filename=emoji-1.7.0-py3-none-any.whl size=171046 sha256=3298c2d41c0e6926f486c4e0b50b48d35b543ae7ab691c0d6c1d67a3d1747ec7\n",
            "  Stored in directory: /root/.cache/pip/wheels/8a/4e/b6/57b01db010d17ef6ea9b40300af725ef3e210cb1acfb7ac8b6\n",
            "Successfully built emoji\n",
            "Installing collected packages: emoji\n",
            "Successfully installed emoji-1.7.0\n"
          ]
        }
      ]
    },
    {
      "cell_type": "code",
      "source": [
        "import emoji\n",
        "def changeemoji(text):\n",
        "  return(emoji.demojize(text, delimiters=(\"\", \"\")))"
      ],
      "metadata": {
        "id": "OsWH2o4pf9ia"
      },
      "execution_count": null,
      "outputs": []
    },
    {
      "cell_type": "code",
      "source": [
        "from emot.emo_unicode import EMOTICONS_EMO\n",
        "def convert_emoticons(text):\n",
        "  for emot in EMOTICONS_EMO:\n",
        "        text = re.sub(u'('+emot+')', \"_\".join(EMOTICONS_EMO[emot].replace(\",\",\"\").split()), text)\n",
        "  return text"
      ],
      "metadata": {
        "id": "osgtmA2gf8Ik"
      },
      "execution_count": null,
      "outputs": []
    },
    {
      "cell_type": "code",
      "source": [
        "data['Emoji_replace'] = data['TT'].apply(changeemoji)"
      ],
      "metadata": {
        "id": "oeLnk89Ef9fE"
      },
      "execution_count": null,
      "outputs": []
    },
    {
      "cell_type": "code",
      "source": [
        "data['Tweets'][1]"
      ],
      "metadata": {
        "colab": {
          "base_uri": "https://localhost:8080/",
          "height": 36
        },
        "id": "kL7vCl0SHk3j",
        "outputId": "f01090b1-6e80-41c2-f3f4-1083ef922da5"
      },
      "execution_count": null,
      "outputs": [
        {
          "output_type": "execute_result",
          "data": {
            "text/plain": [
              "' #2: @蓮花 &はすか ed \"RT @ninjaryugo: ＃コナモンの日 だそうで、コナモンさんこと雑渡昆奈門さんのコスプレアクションを再喝＃忍たま ＃落乱https://t.co/Wn24WLfRML\"'"
            ],
            "application/vnd.google.colaboratory.intrinsic+json": {
              "type": "string"
            }
          },
          "metadata": {},
          "execution_count": 245
        }
      ]
    },
    {
      "cell_type": "code",
      "source": [
        "data['TT'][1]"
      ],
      "metadata": {
        "colab": {
          "base_uri": "https://localhost:8080/",
          "height": 36
        },
        "id": "scLn9V5vHwd4",
        "outputId": "7da58de6-729e-4df4-f756-679dd8ceaa8f"
      },
      "execution_count": null,
      "outputs": [
        {
          "output_type": "execute_result",
          "data": {
            "text/plain": [
              "'# 2: @ Lotus Flower & Hasuka ed \"RT @ninjaryugo: # It seems that it\\'s Konamon\\'s day, so I reiterated the cosplay action of Mr. Konamon and Mr. Kunnamon Zawatari. Wn24WLfRML \"'"
            ],
            "application/vnd.google.colaboratory.intrinsic+json": {
              "type": "string"
            }
          },
          "metadata": {},
          "execution_count": 246
        }
      ]
    },
    {
      "cell_type": "code",
      "source": [
        "data['TT'][3]"
      ],
      "metadata": {
        "colab": {
          "base_uri": "https://localhost:8080/",
          "height": 53
        },
        "id": "38UjJ6fAHf7A",
        "outputId": "854c27c0-9f0b-4e0b-b673-dab9bb075aea"
      },
      "execution_count": null,
      "outputs": [
        {
          "output_type": "execute_result",
          "data": {
            "text/plain": [
              "'#4: @월월 [씍쯴사랑로봇] jwinnie is the best, cheer up jwinnie ed \"Omg I left for 2 min and 50-100 msgs ajdjsjs I cant save em all but I\\'m so happy 😆😆🥰 moments like these will be ones I treasure for a long time idk why but it makes me so happy 😭😭😭\"'"
            ],
            "application/vnd.google.colaboratory.intrinsic+json": {
              "type": "string"
            }
          },
          "metadata": {},
          "execution_count": 240
        }
      ]
    },
    {
      "cell_type": "code",
      "source": [
        "data['Emoji_replace'][3]"
      ],
      "metadata": {
        "colab": {
          "base_uri": "https://localhost:8080/",
          "height": 70
        },
        "id": "1XGiI5DMHsKf",
        "outputId": "99de0784-25bd-4c1c-9a77-f41a64748a43"
      },
      "execution_count": null,
      "outputs": [
        {
          "output_type": "execute_result",
          "data": {
            "text/plain": [
              "'#4: @월월 [씍쯴사랑로봇] jwinnie is the best, cheer up jwinnie ed \"Omg I left for 2 min and 50-100 msgs ajdjsjs I cant save em all but I\\'m so happy grinning_squinting_facegrinning_squinting_facesmiling_face_with_hearts moments like these will be ones I treasure for a long time idk why but it makes me so happy loudly_crying_faceloudly_crying_faceloudly_crying_face\"'"
            ],
            "application/vnd.google.colaboratory.intrinsic+json": {
              "type": "string"
            }
          },
          "metadata": {},
          "execution_count": 247
        }
      ]
    },
    {
      "cell_type": "code",
      "source": [
        "data['Emoji_replace'] = data['Emoji_replace'].apply(convert_emoticons)\n",
        "data"
      ],
      "metadata": {
        "colab": {
          "base_uri": "https://localhost:8080/",
          "height": 328
        },
        "id": "F5ITfkZYjEe1",
        "outputId": "afc5da6b-bec9-445c-bd13-86233a9a7b36"
      },
      "execution_count": null,
      "outputs": [
        {
          "output_type": "error",
          "ename": "error",
          "evalue": "ignored",
          "traceback": [
            "\u001b[0;31m---------------------------------------------------------------------------\u001b[0m",
            "\u001b[0;31merror\u001b[0m                                     Traceback (most recent call last)",
            "\u001b[0;32m<ipython-input-120-63660fb279e7>\u001b[0m in \u001b[0;36m<module>\u001b[0;34m()\u001b[0m\n\u001b[0;32m----> 1\u001b[0;31m \u001b[0mdata\u001b[0m\u001b[0;34m[\u001b[0m\u001b[0;34m'Emoji_replace'\u001b[0m\u001b[0;34m]\u001b[0m \u001b[0;34m=\u001b[0m \u001b[0mdata\u001b[0m\u001b[0;34m[\u001b[0m\u001b[0;34m'Emoji_replace'\u001b[0m\u001b[0;34m]\u001b[0m\u001b[0;34m.\u001b[0m\u001b[0mapply\u001b[0m\u001b[0;34m(\u001b[0m\u001b[0mconvert_emoticons\u001b[0m\u001b[0;34m)\u001b[0m\u001b[0;34m\u001b[0m\u001b[0;34m\u001b[0m\u001b[0m\n\u001b[0m\u001b[1;32m      2\u001b[0m \u001b[0mdata\u001b[0m\u001b[0;34m\u001b[0m\u001b[0;34m\u001b[0m\u001b[0m\n",
            "\u001b[0;32m/usr/local/lib/python3.7/dist-packages/pandas/core/series.py\u001b[0m in \u001b[0;36mapply\u001b[0;34m(self, func, convert_dtype, args, **kwargs)\u001b[0m\n\u001b[1;32m   4355\u001b[0m         \u001b[0mdtype\u001b[0m\u001b[0;34m:\u001b[0m \u001b[0mfloat64\u001b[0m\u001b[0;34m\u001b[0m\u001b[0;34m\u001b[0m\u001b[0m\n\u001b[1;32m   4356\u001b[0m         \"\"\"\n\u001b[0;32m-> 4357\u001b[0;31m         \u001b[0;32mreturn\u001b[0m \u001b[0mSeriesApply\u001b[0m\u001b[0;34m(\u001b[0m\u001b[0mself\u001b[0m\u001b[0;34m,\u001b[0m \u001b[0mfunc\u001b[0m\u001b[0;34m,\u001b[0m \u001b[0mconvert_dtype\u001b[0m\u001b[0;34m,\u001b[0m \u001b[0margs\u001b[0m\u001b[0;34m,\u001b[0m \u001b[0mkwargs\u001b[0m\u001b[0;34m)\u001b[0m\u001b[0;34m.\u001b[0m\u001b[0mapply\u001b[0m\u001b[0;34m(\u001b[0m\u001b[0;34m)\u001b[0m\u001b[0;34m\u001b[0m\u001b[0;34m\u001b[0m\u001b[0m\n\u001b[0m\u001b[1;32m   4358\u001b[0m \u001b[0;34m\u001b[0m\u001b[0m\n\u001b[1;32m   4359\u001b[0m     def _reduce(\n",
            "\u001b[0;32m/usr/local/lib/python3.7/dist-packages/pandas/core/apply.py\u001b[0m in \u001b[0;36mapply\u001b[0;34m(self)\u001b[0m\n\u001b[1;32m   1041\u001b[0m             \u001b[0;32mreturn\u001b[0m \u001b[0mself\u001b[0m\u001b[0;34m.\u001b[0m\u001b[0mapply_str\u001b[0m\u001b[0;34m(\u001b[0m\u001b[0;34m)\u001b[0m\u001b[0;34m\u001b[0m\u001b[0;34m\u001b[0m\u001b[0m\n\u001b[1;32m   1042\u001b[0m \u001b[0;34m\u001b[0m\u001b[0m\n\u001b[0;32m-> 1043\u001b[0;31m         \u001b[0;32mreturn\u001b[0m \u001b[0mself\u001b[0m\u001b[0;34m.\u001b[0m\u001b[0mapply_standard\u001b[0m\u001b[0;34m(\u001b[0m\u001b[0;34m)\u001b[0m\u001b[0;34m\u001b[0m\u001b[0;34m\u001b[0m\u001b[0m\n\u001b[0m\u001b[1;32m   1044\u001b[0m \u001b[0;34m\u001b[0m\u001b[0m\n\u001b[1;32m   1045\u001b[0m     \u001b[0;32mdef\u001b[0m \u001b[0magg\u001b[0m\u001b[0;34m(\u001b[0m\u001b[0mself\u001b[0m\u001b[0;34m)\u001b[0m\u001b[0;34m:\u001b[0m\u001b[0;34m\u001b[0m\u001b[0;34m\u001b[0m\u001b[0m\n",
            "\u001b[0;32m/usr/local/lib/python3.7/dist-packages/pandas/core/apply.py\u001b[0m in \u001b[0;36mapply_standard\u001b[0;34m(self)\u001b[0m\n\u001b[1;32m   1099\u001b[0m                     \u001b[0mvalues\u001b[0m\u001b[0;34m,\u001b[0m\u001b[0;34m\u001b[0m\u001b[0;34m\u001b[0m\u001b[0m\n\u001b[1;32m   1100\u001b[0m                     \u001b[0mf\u001b[0m\u001b[0;34m,\u001b[0m  \u001b[0;31m# type: ignore[arg-type]\u001b[0m\u001b[0;34m\u001b[0m\u001b[0;34m\u001b[0m\u001b[0m\n\u001b[0;32m-> 1101\u001b[0;31m                     \u001b[0mconvert\u001b[0m\u001b[0;34m=\u001b[0m\u001b[0mself\u001b[0m\u001b[0;34m.\u001b[0m\u001b[0mconvert_dtype\u001b[0m\u001b[0;34m,\u001b[0m\u001b[0;34m\u001b[0m\u001b[0;34m\u001b[0m\u001b[0m\n\u001b[0m\u001b[1;32m   1102\u001b[0m                 )\n\u001b[1;32m   1103\u001b[0m \u001b[0;34m\u001b[0m\u001b[0m\n",
            "\u001b[0;32m/usr/local/lib/python3.7/dist-packages/pandas/_libs/lib.pyx\u001b[0m in \u001b[0;36mpandas._libs.lib.map_infer\u001b[0;34m()\u001b[0m\n",
            "\u001b[0;32m<ipython-input-117-7b05d01b8dd2>\u001b[0m in \u001b[0;36mconvert_emoticons\u001b[0;34m(text)\u001b[0m\n\u001b[1;32m      2\u001b[0m \u001b[0;32mdef\u001b[0m \u001b[0mconvert_emoticons\u001b[0m\u001b[0;34m(\u001b[0m\u001b[0mtext\u001b[0m\u001b[0;34m)\u001b[0m\u001b[0;34m:\u001b[0m\u001b[0;34m\u001b[0m\u001b[0;34m\u001b[0m\u001b[0m\n\u001b[1;32m      3\u001b[0m   \u001b[0;32mfor\u001b[0m \u001b[0memot\u001b[0m \u001b[0;32min\u001b[0m \u001b[0mEMOTICONS_EMO\u001b[0m\u001b[0;34m:\u001b[0m\u001b[0;34m\u001b[0m\u001b[0;34m\u001b[0m\u001b[0m\n\u001b[0;32m----> 4\u001b[0;31m         \u001b[0mtext\u001b[0m \u001b[0;34m=\u001b[0m \u001b[0mre\u001b[0m\u001b[0;34m.\u001b[0m\u001b[0msub\u001b[0m\u001b[0;34m(\u001b[0m\u001b[0;34mu'('\u001b[0m\u001b[0;34m+\u001b[0m\u001b[0memot\u001b[0m\u001b[0;34m+\u001b[0m\u001b[0;34m')'\u001b[0m\u001b[0;34m,\u001b[0m \u001b[0;34m\"_\"\u001b[0m\u001b[0;34m.\u001b[0m\u001b[0mjoin\u001b[0m\u001b[0;34m(\u001b[0m\u001b[0mEMOTICONS_EMO\u001b[0m\u001b[0;34m[\u001b[0m\u001b[0memot\u001b[0m\u001b[0;34m]\u001b[0m\u001b[0;34m.\u001b[0m\u001b[0mreplace\u001b[0m\u001b[0;34m(\u001b[0m\u001b[0;34m\",\"\u001b[0m\u001b[0;34m,\u001b[0m\u001b[0;34m\"\"\u001b[0m\u001b[0;34m)\u001b[0m\u001b[0;34m.\u001b[0m\u001b[0msplit\u001b[0m\u001b[0;34m(\u001b[0m\u001b[0;34m)\u001b[0m\u001b[0;34m)\u001b[0m\u001b[0;34m,\u001b[0m \u001b[0mtext\u001b[0m\u001b[0;34m)\u001b[0m\u001b[0;34m\u001b[0m\u001b[0;34m\u001b[0m\u001b[0m\n\u001b[0m\u001b[1;32m      5\u001b[0m   \u001b[0;32mreturn\u001b[0m \u001b[0mtext\u001b[0m\u001b[0;34m\u001b[0m\u001b[0;34m\u001b[0m\u001b[0m\n",
            "\u001b[0;32m/usr/lib/python3.7/re.py\u001b[0m in \u001b[0;36msub\u001b[0;34m(pattern, repl, string, count, flags)\u001b[0m\n\u001b[1;32m    192\u001b[0m     \u001b[0ma\u001b[0m \u001b[0mcallable\u001b[0m\u001b[0;34m,\u001b[0m \u001b[0mit\u001b[0m\u001b[0;31m'\u001b[0m\u001b[0ms\u001b[0m \u001b[0mpassed\u001b[0m \u001b[0mthe\u001b[0m \u001b[0mMatch\u001b[0m \u001b[0mobject\u001b[0m \u001b[0;32mand\u001b[0m \u001b[0mmust\u001b[0m \u001b[0;32mreturn\u001b[0m\u001b[0;34m\u001b[0m\u001b[0;34m\u001b[0m\u001b[0m\n\u001b[1;32m    193\u001b[0m     a replacement string to be used.\"\"\"\n\u001b[0;32m--> 194\u001b[0;31m     \u001b[0;32mreturn\u001b[0m \u001b[0m_compile\u001b[0m\u001b[0;34m(\u001b[0m\u001b[0mpattern\u001b[0m\u001b[0;34m,\u001b[0m \u001b[0mflags\u001b[0m\u001b[0;34m)\u001b[0m\u001b[0;34m.\u001b[0m\u001b[0msub\u001b[0m\u001b[0;34m(\u001b[0m\u001b[0mrepl\u001b[0m\u001b[0;34m,\u001b[0m \u001b[0mstring\u001b[0m\u001b[0;34m,\u001b[0m \u001b[0mcount\u001b[0m\u001b[0;34m)\u001b[0m\u001b[0;34m\u001b[0m\u001b[0;34m\u001b[0m\u001b[0m\n\u001b[0m\u001b[1;32m    195\u001b[0m \u001b[0;34m\u001b[0m\u001b[0m\n\u001b[1;32m    196\u001b[0m \u001b[0;32mdef\u001b[0m \u001b[0msubn\u001b[0m\u001b[0;34m(\u001b[0m\u001b[0mpattern\u001b[0m\u001b[0;34m,\u001b[0m \u001b[0mrepl\u001b[0m\u001b[0;34m,\u001b[0m \u001b[0mstring\u001b[0m\u001b[0;34m,\u001b[0m \u001b[0mcount\u001b[0m\u001b[0;34m=\u001b[0m\u001b[0;36m0\u001b[0m\u001b[0;34m,\u001b[0m \u001b[0mflags\u001b[0m\u001b[0;34m=\u001b[0m\u001b[0;36m0\u001b[0m\u001b[0;34m)\u001b[0m\u001b[0;34m:\u001b[0m\u001b[0;34m\u001b[0m\u001b[0;34m\u001b[0m\u001b[0m\n",
            "\u001b[0;32m/usr/lib/python3.7/re.py\u001b[0m in \u001b[0;36m_compile\u001b[0;34m(pattern, flags)\u001b[0m\n\u001b[1;32m    286\u001b[0m     \u001b[0;32mif\u001b[0m \u001b[0;32mnot\u001b[0m \u001b[0msre_compile\u001b[0m\u001b[0;34m.\u001b[0m\u001b[0misstring\u001b[0m\u001b[0;34m(\u001b[0m\u001b[0mpattern\u001b[0m\u001b[0;34m)\u001b[0m\u001b[0;34m:\u001b[0m\u001b[0;34m\u001b[0m\u001b[0;34m\u001b[0m\u001b[0m\n\u001b[1;32m    287\u001b[0m         \u001b[0;32mraise\u001b[0m \u001b[0mTypeError\u001b[0m\u001b[0;34m(\u001b[0m\u001b[0;34m\"first argument must be string or compiled pattern\"\u001b[0m\u001b[0;34m)\u001b[0m\u001b[0;34m\u001b[0m\u001b[0;34m\u001b[0m\u001b[0m\n\u001b[0;32m--> 288\u001b[0;31m     \u001b[0mp\u001b[0m \u001b[0;34m=\u001b[0m \u001b[0msre_compile\u001b[0m\u001b[0;34m.\u001b[0m\u001b[0mcompile\u001b[0m\u001b[0;34m(\u001b[0m\u001b[0mpattern\u001b[0m\u001b[0;34m,\u001b[0m \u001b[0mflags\u001b[0m\u001b[0;34m)\u001b[0m\u001b[0;34m\u001b[0m\u001b[0;34m\u001b[0m\u001b[0m\n\u001b[0m\u001b[1;32m    289\u001b[0m     \u001b[0;32mif\u001b[0m \u001b[0;32mnot\u001b[0m \u001b[0;34m(\u001b[0m\u001b[0mflags\u001b[0m \u001b[0;34m&\u001b[0m \u001b[0mDEBUG\u001b[0m\u001b[0;34m)\u001b[0m\u001b[0;34m:\u001b[0m\u001b[0;34m\u001b[0m\u001b[0;34m\u001b[0m\u001b[0m\n\u001b[1;32m    290\u001b[0m         \u001b[0;32mif\u001b[0m \u001b[0mlen\u001b[0m\u001b[0;34m(\u001b[0m\u001b[0m_cache\u001b[0m\u001b[0;34m)\u001b[0m \u001b[0;34m>=\u001b[0m \u001b[0m_MAXCACHE\u001b[0m\u001b[0;34m:\u001b[0m\u001b[0;34m\u001b[0m\u001b[0;34m\u001b[0m\u001b[0m\n",
            "\u001b[0;32m/usr/lib/python3.7/sre_compile.py\u001b[0m in \u001b[0;36mcompile\u001b[0;34m(p, flags)\u001b[0m\n\u001b[1;32m    762\u001b[0m     \u001b[0;32mif\u001b[0m \u001b[0misstring\u001b[0m\u001b[0;34m(\u001b[0m\u001b[0mp\u001b[0m\u001b[0;34m)\u001b[0m\u001b[0;34m:\u001b[0m\u001b[0;34m\u001b[0m\u001b[0;34m\u001b[0m\u001b[0m\n\u001b[1;32m    763\u001b[0m         \u001b[0mpattern\u001b[0m \u001b[0;34m=\u001b[0m \u001b[0mp\u001b[0m\u001b[0;34m\u001b[0m\u001b[0;34m\u001b[0m\u001b[0m\n\u001b[0;32m--> 764\u001b[0;31m         \u001b[0mp\u001b[0m \u001b[0;34m=\u001b[0m \u001b[0msre_parse\u001b[0m\u001b[0;34m.\u001b[0m\u001b[0mparse\u001b[0m\u001b[0;34m(\u001b[0m\u001b[0mp\u001b[0m\u001b[0;34m,\u001b[0m \u001b[0mflags\u001b[0m\u001b[0;34m)\u001b[0m\u001b[0;34m\u001b[0m\u001b[0;34m\u001b[0m\u001b[0m\n\u001b[0m\u001b[1;32m    765\u001b[0m     \u001b[0;32melse\u001b[0m\u001b[0;34m:\u001b[0m\u001b[0;34m\u001b[0m\u001b[0;34m\u001b[0m\u001b[0m\n\u001b[1;32m    766\u001b[0m         \u001b[0mpattern\u001b[0m \u001b[0;34m=\u001b[0m \u001b[0;32mNone\u001b[0m\u001b[0;34m\u001b[0m\u001b[0;34m\u001b[0m\u001b[0m\n",
            "\u001b[0;32m/usr/lib/python3.7/sre_parse.py\u001b[0m in \u001b[0;36mparse\u001b[0;34m(str, flags, pattern)\u001b[0m\n\u001b[1;32m    936\u001b[0m     \u001b[0;32mif\u001b[0m \u001b[0msource\u001b[0m\u001b[0;34m.\u001b[0m\u001b[0mnext\u001b[0m \u001b[0;32mis\u001b[0m \u001b[0;32mnot\u001b[0m \u001b[0;32mNone\u001b[0m\u001b[0;34m:\u001b[0m\u001b[0;34m\u001b[0m\u001b[0;34m\u001b[0m\u001b[0m\n\u001b[1;32m    937\u001b[0m         \u001b[0;32massert\u001b[0m \u001b[0msource\u001b[0m\u001b[0;34m.\u001b[0m\u001b[0mnext\u001b[0m \u001b[0;34m==\u001b[0m \u001b[0;34m\")\"\u001b[0m\u001b[0;34m\u001b[0m\u001b[0;34m\u001b[0m\u001b[0m\n\u001b[0;32m--> 938\u001b[0;31m         \u001b[0;32mraise\u001b[0m \u001b[0msource\u001b[0m\u001b[0;34m.\u001b[0m\u001b[0merror\u001b[0m\u001b[0;34m(\u001b[0m\u001b[0;34m\"unbalanced parenthesis\"\u001b[0m\u001b[0;34m)\u001b[0m\u001b[0;34m\u001b[0m\u001b[0;34m\u001b[0m\u001b[0m\n\u001b[0m\u001b[1;32m    939\u001b[0m \u001b[0;34m\u001b[0m\u001b[0m\n\u001b[1;32m    940\u001b[0m     \u001b[0;32mif\u001b[0m \u001b[0mflags\u001b[0m \u001b[0;34m&\u001b[0m \u001b[0mSRE_FLAG_DEBUG\u001b[0m\u001b[0;34m:\u001b[0m\u001b[0;34m\u001b[0m\u001b[0;34m\u001b[0m\u001b[0m\n",
            "\u001b[0;31merror\u001b[0m: unbalanced parenthesis at position 4"
          ]
        }
      ]
    },
    {
      "cell_type": "code",
      "source": [
        "def clean(x):\n",
        "  return(' '.join(re.sub(\"(@[A-Za-z0-9]+)|([^0-9A-Za-z \\t])|(\\w+:\\/\\/\\S+)\",\" \",x).split()))\n",
        "data['cleanD'] = data['Emoji_replace'].apply(clean)\n",
        "data"
      ],
      "metadata": {
        "colab": {
          "base_uri": "https://localhost:8080/",
          "height": 641
        },
        "id": "02FHY0PgjEah",
        "outputId": "1385cec1-6e7e-464c-f07c-00491e821e42"
      },
      "execution_count": null,
      "outputs": [
        {
          "output_type": "execute_result",
          "data": {
            "text/plain": [
              "       Sl no                                             Tweets  \\\n",
              "0          1   #1: @fe ed \"RT @MirayaDizon1: Time is ticking...   \n",
              "1          2   #2: @蓮花 &はすか ed \"RT @ninjaryugo: ＃コナモンの日 だそうで...   \n",
              "2          3   #3: @Ris ♡ ed \"Happy birthday to one smokin h...   \n",
              "3          4   #4: @월월 [씍쯴사랑로봇] jwinnie is the best, cheer u...   \n",
              "4          5   #5: @Madhurima wth u vc♥ ed \"Good morning dea...   \n",
              "...      ...                                                ...   \n",
              "10012  10016  Tweet #85: @Matteo tweeted \"@GameSpot @Frannkc...   \n",
              "10013  10017  Tweet #86: @𝐚𝐧𝐢𝐬𝐭𝐨𝐧 tweeted \"@BRATgiirl_ that’...   \n",
              "10014  10018  Tweet #87: @Chowkidar Ricky Sharma tweeted \"@M...   \n",
              "10015  10019  Tweet #88: @Katoe.EXE tweeted \"u know what i h...   \n",
              "10016  10019  Tweet #88: @Katoe.EXE tweeted \"u know what i h...   \n",
              "\n",
              "          Search key Feeling  \\\n",
              "0      happy moments   happy   \n",
              "1      happy moments   happy   \n",
              "2      happy moments   happy   \n",
              "3      happy moments   happy   \n",
              "4      happy moments   happy   \n",
              "...              ...     ...   \n",
              "10012     irritating   angry   \n",
              "10013     irritating   angry   \n",
              "10014     irritating   angry   \n",
              "10015     irritating   angry   \n",
              "10016     irritating   angry   \n",
              "\n",
              "                                                      TT  \\\n",
              "0      #1: @fe ed \"RT @MirayaDizon1: Time is ticking ...   \n",
              "1      # 2: @ Lotus Flower & Hasuka ed \"RT @ninjaryug...   \n",
              "2      #3: @Ris ♡ ed \"Happy birthday to one smokin ho...   \n",
              "3      #4: @월월 [씍쯴사랑로봇] jwinnie is the best, cheer up...   \n",
              "4      #5: @Madhurima wth u vc♥ ed \"Good morning dear...   \n",
              "...                                                  ...   \n",
              "10012  Tweet #85: @Matteo tweeted \"@GameSpot @Frannkc...   \n",
              "10013  Tweet #86: @𝐚𝐧𝐢𝐬𝐭𝐨𝐧 tweeted \"@BRATgiirl_ that’...   \n",
              "10014  Tweet #87: @Chowkidar Ricky Sharma tweeted \"@M...   \n",
              "10015  Tweet #88: @Katoe.EXE tweeted \"u know what i h...   \n",
              "10016  Tweet #88: @Katoe.EXE tweeted \"u know what i h...   \n",
              "\n",
              "                                                  cleanD  \\\n",
              "0      1 ed RT Time is ticking fast Relive the past h...   \n",
              "1      2 Lotus Flower Hasuka ed RT It seems that it s...   \n",
              "2      3 ed Happy birthday to one smokin hot mama hot...   \n",
              "3      4 jwinnie is the best cheer up jwinnie ed Omg ...   \n",
              "4      5 wth u vcheart suit ed Good morning dearred h...   \n",
              "...                                                  ...   \n",
              "10012  Tweet 85 tweeted Controversy THEY caused Yes w...   \n",
              "10013  Tweet 86 tweeted that s so irritating pouting ...   \n",
              "10014  Tweet 87 Ricky Sharma tweeted G aapne besharmi...   \n",
              "10015  Tweet 88 EXE tweeted u know what i hate indie ...   \n",
              "10016  Tweet 88 EXE tweeted u know what i hate indie ...   \n",
              "\n",
              "                                           Emoji_replace  \n",
              "0      #1: @fe ed \"RT @MirayaDizon1: Time is ticking ...  \n",
              "1      # 2: @ Lotus Flower & Hasuka ed \"RT @ninjaryug...  \n",
              "2      #3: @Ris ♡ ed \"Happy birthday to one smokin ho...  \n",
              "3      #4: @월월 [씍쯴사랑로봇] jwinnie is the best, cheer up...  \n",
              "4      #5: @Madhurima wth u vcheart_suit ed \"Good mor...  \n",
              "...                                                  ...  \n",
              "10012  Tweet #85: @Matteo tweeted \"@GameSpot @Frannkc...  \n",
              "10013  Tweet #86: @𝐚𝐧𝐢𝐬𝐭𝐨𝐧 tweeted \"@BRATgiirl_ that’...  \n",
              "10014  Tweet #87: @Chowkidar Ricky Sharma tweeted \"@M...  \n",
              "10015  Tweet #88: @Katoe.EXE tweeted \"u know what i h...  \n",
              "10016  Tweet #88: @Katoe.EXE tweeted \"u know what i h...  \n",
              "\n",
              "[10017 rows x 7 columns]"
            ],
            "text/html": [
              "\n",
              "  <div id=\"df-41929c79-08b6-4c5f-af3f-afb48f37f3aa\">\n",
              "    <div class=\"colab-df-container\">\n",
              "      <div>\n",
              "<style scoped>\n",
              "    .dataframe tbody tr th:only-of-type {\n",
              "        vertical-align: middle;\n",
              "    }\n",
              "\n",
              "    .dataframe tbody tr th {\n",
              "        vertical-align: top;\n",
              "    }\n",
              "\n",
              "    .dataframe thead th {\n",
              "        text-align: right;\n",
              "    }\n",
              "</style>\n",
              "<table border=\"1\" class=\"dataframe\">\n",
              "  <thead>\n",
              "    <tr style=\"text-align: right;\">\n",
              "      <th></th>\n",
              "      <th>Sl no</th>\n",
              "      <th>Tweets</th>\n",
              "      <th>Search key</th>\n",
              "      <th>Feeling</th>\n",
              "      <th>TT</th>\n",
              "      <th>cleanD</th>\n",
              "      <th>Emoji_replace</th>\n",
              "    </tr>\n",
              "  </thead>\n",
              "  <tbody>\n",
              "    <tr>\n",
              "      <th>0</th>\n",
              "      <td>1</td>\n",
              "      <td>#1: @fe ed \"RT @MirayaDizon1: Time is ticking...</td>\n",
              "      <td>happy moments</td>\n",
              "      <td>happy</td>\n",
              "      <td>#1: @fe ed \"RT @MirayaDizon1: Time is ticking ...</td>\n",
              "      <td>1 ed RT Time is ticking fast Relive the past h...</td>\n",
              "      <td>#1: @fe ed \"RT @MirayaDizon1: Time is ticking ...</td>\n",
              "    </tr>\n",
              "    <tr>\n",
              "      <th>1</th>\n",
              "      <td>2</td>\n",
              "      <td>#2: @蓮花 &amp;はすか ed \"RT @ninjaryugo: ＃コナモンの日 だそうで...</td>\n",
              "      <td>happy moments</td>\n",
              "      <td>happy</td>\n",
              "      <td># 2: @ Lotus Flower &amp; Hasuka ed \"RT @ninjaryug...</td>\n",
              "      <td>2 Lotus Flower Hasuka ed RT It seems that it s...</td>\n",
              "      <td># 2: @ Lotus Flower &amp; Hasuka ed \"RT @ninjaryug...</td>\n",
              "    </tr>\n",
              "    <tr>\n",
              "      <th>2</th>\n",
              "      <td>3</td>\n",
              "      <td>#3: @Ris ♡ ed \"Happy birthday to one smokin h...</td>\n",
              "      <td>happy moments</td>\n",
              "      <td>happy</td>\n",
              "      <td>#3: @Ris ♡ ed \"Happy birthday to one smokin ho...</td>\n",
              "      <td>3 ed Happy birthday to one smokin hot mama hot...</td>\n",
              "      <td>#3: @Ris ♡ ed \"Happy birthday to one smokin ho...</td>\n",
              "    </tr>\n",
              "    <tr>\n",
              "      <th>3</th>\n",
              "      <td>4</td>\n",
              "      <td>#4: @월월 [씍쯴사랑로봇] jwinnie is the best, cheer u...</td>\n",
              "      <td>happy moments</td>\n",
              "      <td>happy</td>\n",
              "      <td>#4: @월월 [씍쯴사랑로봇] jwinnie is the best, cheer up...</td>\n",
              "      <td>4 jwinnie is the best cheer up jwinnie ed Omg ...</td>\n",
              "      <td>#4: @월월 [씍쯴사랑로봇] jwinnie is the best, cheer up...</td>\n",
              "    </tr>\n",
              "    <tr>\n",
              "      <th>4</th>\n",
              "      <td>5</td>\n",
              "      <td>#5: @Madhurima wth u vc♥ ed \"Good morning dea...</td>\n",
              "      <td>happy moments</td>\n",
              "      <td>happy</td>\n",
              "      <td>#5: @Madhurima wth u vc♥ ed \"Good morning dear...</td>\n",
              "      <td>5 wth u vcheart suit ed Good morning dearred h...</td>\n",
              "      <td>#5: @Madhurima wth u vcheart_suit ed \"Good mor...</td>\n",
              "    </tr>\n",
              "    <tr>\n",
              "      <th>...</th>\n",
              "      <td>...</td>\n",
              "      <td>...</td>\n",
              "      <td>...</td>\n",
              "      <td>...</td>\n",
              "      <td>...</td>\n",
              "      <td>...</td>\n",
              "      <td>...</td>\n",
              "    </tr>\n",
              "    <tr>\n",
              "      <th>10012</th>\n",
              "      <td>10016</td>\n",
              "      <td>Tweet #85: @Matteo tweeted \"@GameSpot @Frannkc...</td>\n",
              "      <td>irritating</td>\n",
              "      <td>angry</td>\n",
              "      <td>Tweet #85: @Matteo tweeted \"@GameSpot @Frannkc...</td>\n",
              "      <td>Tweet 85 tweeted Controversy THEY caused Yes w...</td>\n",
              "      <td>Tweet #85: @Matteo tweeted \"@GameSpot @Frannkc...</td>\n",
              "    </tr>\n",
              "    <tr>\n",
              "      <th>10013</th>\n",
              "      <td>10017</td>\n",
              "      <td>Tweet #86: @𝐚𝐧𝐢𝐬𝐭𝐨𝐧 tweeted \"@BRATgiirl_ that’...</td>\n",
              "      <td>irritating</td>\n",
              "      <td>angry</td>\n",
              "      <td>Tweet #86: @𝐚𝐧𝐢𝐬𝐭𝐨𝐧 tweeted \"@BRATgiirl_ that’...</td>\n",
              "      <td>Tweet 86 tweeted that s so irritating pouting ...</td>\n",
              "      <td>Tweet #86: @𝐚𝐧𝐢𝐬𝐭𝐨𝐧 tweeted \"@BRATgiirl_ that’...</td>\n",
              "    </tr>\n",
              "    <tr>\n",
              "      <th>10014</th>\n",
              "      <td>10018</td>\n",
              "      <td>Tweet #87: @Chowkidar Ricky Sharma tweeted \"@M...</td>\n",
              "      <td>irritating</td>\n",
              "      <td>angry</td>\n",
              "      <td>Tweet #87: @Chowkidar Ricky Sharma tweeted \"@M...</td>\n",
              "      <td>Tweet 87 Ricky Sharma tweeted G aapne besharmi...</td>\n",
              "      <td>Tweet #87: @Chowkidar Ricky Sharma tweeted \"@M...</td>\n",
              "    </tr>\n",
              "    <tr>\n",
              "      <th>10015</th>\n",
              "      <td>10019</td>\n",
              "      <td>Tweet #88: @Katoe.EXE tweeted \"u know what i h...</td>\n",
              "      <td>irritating</td>\n",
              "      <td>angry</td>\n",
              "      <td>Tweet #88: @Katoe.EXE tweeted \"u know what i h...</td>\n",
              "      <td>Tweet 88 EXE tweeted u know what i hate indie ...</td>\n",
              "      <td>Tweet #88: @Katoe.EXE tweeted \"u know what i h...</td>\n",
              "    </tr>\n",
              "    <tr>\n",
              "      <th>10016</th>\n",
              "      <td>10019</td>\n",
              "      <td>Tweet #88: @Katoe.EXE tweeted \"u know what i h...</td>\n",
              "      <td>irritating</td>\n",
              "      <td>angry</td>\n",
              "      <td>Tweet #88: @Katoe.EXE tweeted \"u know what i h...</td>\n",
              "      <td>Tweet 88 EXE tweeted u know what i hate indie ...</td>\n",
              "      <td>Tweet #88: @Katoe.EXE tweeted \"u know what i h...</td>\n",
              "    </tr>\n",
              "  </tbody>\n",
              "</table>\n",
              "<p>10017 rows × 7 columns</p>\n",
              "</div>\n",
              "      <button class=\"colab-df-convert\" onclick=\"convertToInteractive('df-41929c79-08b6-4c5f-af3f-afb48f37f3aa')\"\n",
              "              title=\"Convert this dataframe to an interactive table.\"\n",
              "              style=\"display:none;\">\n",
              "        \n",
              "  <svg xmlns=\"http://www.w3.org/2000/svg\" height=\"24px\"viewBox=\"0 0 24 24\"\n",
              "       width=\"24px\">\n",
              "    <path d=\"M0 0h24v24H0V0z\" fill=\"none\"/>\n",
              "    <path d=\"M18.56 5.44l.94 2.06.94-2.06 2.06-.94-2.06-.94-.94-2.06-.94 2.06-2.06.94zm-11 1L8.5 8.5l.94-2.06 2.06-.94-2.06-.94L8.5 2.5l-.94 2.06-2.06.94zm10 10l.94 2.06.94-2.06 2.06-.94-2.06-.94-.94-2.06-.94 2.06-2.06.94z\"/><path d=\"M17.41 7.96l-1.37-1.37c-.4-.4-.92-.59-1.43-.59-.52 0-1.04.2-1.43.59L10.3 9.45l-7.72 7.72c-.78.78-.78 2.05 0 2.83L4 21.41c.39.39.9.59 1.41.59.51 0 1.02-.2 1.41-.59l7.78-7.78 2.81-2.81c.8-.78.8-2.07 0-2.86zM5.41 20L4 18.59l7.72-7.72 1.47 1.35L5.41 20z\"/>\n",
              "  </svg>\n",
              "      </button>\n",
              "      \n",
              "  <style>\n",
              "    .colab-df-container {\n",
              "      display:flex;\n",
              "      flex-wrap:wrap;\n",
              "      gap: 12px;\n",
              "    }\n",
              "\n",
              "    .colab-df-convert {\n",
              "      background-color: #E8F0FE;\n",
              "      border: none;\n",
              "      border-radius: 50%;\n",
              "      cursor: pointer;\n",
              "      display: none;\n",
              "      fill: #1967D2;\n",
              "      height: 32px;\n",
              "      padding: 0 0 0 0;\n",
              "      width: 32px;\n",
              "    }\n",
              "\n",
              "    .colab-df-convert:hover {\n",
              "      background-color: #E2EBFA;\n",
              "      box-shadow: 0px 1px 2px rgba(60, 64, 67, 0.3), 0px 1px 3px 1px rgba(60, 64, 67, 0.15);\n",
              "      fill: #174EA6;\n",
              "    }\n",
              "\n",
              "    [theme=dark] .colab-df-convert {\n",
              "      background-color: #3B4455;\n",
              "      fill: #D2E3FC;\n",
              "    }\n",
              "\n",
              "    [theme=dark] .colab-df-convert:hover {\n",
              "      background-color: #434B5C;\n",
              "      box-shadow: 0px 1px 3px 1px rgba(0, 0, 0, 0.15);\n",
              "      filter: drop-shadow(0px 1px 2px rgba(0, 0, 0, 0.3));\n",
              "      fill: #FFFFFF;\n",
              "    }\n",
              "  </style>\n",
              "\n",
              "      <script>\n",
              "        const buttonEl =\n",
              "          document.querySelector('#df-41929c79-08b6-4c5f-af3f-afb48f37f3aa button.colab-df-convert');\n",
              "        buttonEl.style.display =\n",
              "          google.colab.kernel.accessAllowed ? 'block' : 'none';\n",
              "\n",
              "        async function convertToInteractive(key) {\n",
              "          const element = document.querySelector('#df-41929c79-08b6-4c5f-af3f-afb48f37f3aa');\n",
              "          const dataTable =\n",
              "            await google.colab.kernel.invokeFunction('convertToInteractive',\n",
              "                                                     [key], {});\n",
              "          if (!dataTable) return;\n",
              "\n",
              "          const docLinkHtml = 'Like what you see? Visit the ' +\n",
              "            '<a target=\"_blank\" href=https://colab.research.google.com/notebooks/data_table.ipynb>data table notebook</a>'\n",
              "            + ' to learn more about interactive tables.';\n",
              "          element.innerHTML = '';\n",
              "          dataTable['output_type'] = 'display_data';\n",
              "          await google.colab.output.renderOutput(dataTable, element);\n",
              "          const docLink = document.createElement('div');\n",
              "          docLink.innerHTML = docLinkHtml;\n",
              "          element.appendChild(docLink);\n",
              "        }\n",
              "      </script>\n",
              "    </div>\n",
              "  </div>\n",
              "  "
            ]
          },
          "metadata": {},
          "execution_count": 121
        }
      ]
    },
    {
      "cell_type": "code",
      "source": [
        "import re\n",
        "def clean2(clean_tweet):\n",
        "  clean_tweet  = clean_tweet.lower()\n",
        "  clean_tweet  = clean_tweet.replace('[^\\w\\s]','')\n",
        "  clean_tweet = re.sub(r'[0-9]',\"\",clean_tweet)\n",
        "  return clean_tweet\n",
        "data['cleanD'] = data['cleanD'].apply(clean2)\n",
        "data.head()"
      ],
      "metadata": {
        "colab": {
          "base_uri": "https://localhost:8080/",
          "height": 354
        },
        "id": "CwWZvxbC90hm",
        "outputId": "9cf14ba1-cb5e-4139-b153-a3fcbaadb0e4"
      },
      "execution_count": null,
      "outputs": [
        {
          "output_type": "execute_result",
          "data": {
            "text/plain": [
              "   Sl no                                             Tweets     Search key  \\\n",
              "0      1   #1: @fe ed \"RT @MirayaDizon1: Time is ticking...  happy moments   \n",
              "1      2   #2: @蓮花 &はすか ed \"RT @ninjaryugo: ＃コナモンの日 だそうで...  happy moments   \n",
              "2      3   #3: @Ris ♡ ed \"Happy birthday to one smokin h...  happy moments   \n",
              "3      4   #4: @월월 [씍쯴사랑로봇] jwinnie is the best, cheer u...  happy moments   \n",
              "4      5   #5: @Madhurima wth u vc♥ ed \"Good morning dea...  happy moments   \n",
              "\n",
              "  Feeling                                                 TT  \\\n",
              "0   happy  #1: @fe ed \"RT @MirayaDizon1: Time is ticking ...   \n",
              "1   happy  # 2: @ Lotus Flower & Hasuka ed \"RT @ninjaryug...   \n",
              "2   happy  #3: @Ris ♡ ed \"Happy birthday to one smokin ho...   \n",
              "3   happy  #4: @월월 [씍쯴사랑로봇] jwinnie is the best, cheer up...   \n",
              "4   happy  #5: @Madhurima wth u vc♥ ed \"Good morning dear...   \n",
              "\n",
              "                                              cleanD  \\\n",
              "0   time ticking fast relive past happy moments j...   \n",
              "1   lotus flower hasuka seems konamon day reitera...   \n",
              "2   happy birthday one smokin hot mama hot love m...   \n",
              "3   jwinnie best cheer jwinnie omg left  min   ms...   \n",
              "4   wth u vcheart suit good morning dearred heart...   \n",
              "\n",
              "                                       Emoji_replace  \\\n",
              "0  #1: @fe ed \"RT @MirayaDizon1: Time is ticking ...   \n",
              "1  # 2: @ Lotus Flower & Hasuka ed \"RT @ninjaryug...   \n",
              "2  #3: @Ris ♡ ed \"Happy birthday to one smokin ho...   \n",
              "3  #4: @월월 [씍쯴사랑로봇] jwinnie is the best, cheer up...   \n",
              "4  #5: @Madhurima wth u vcheart_suit ed \"Good mor...   \n",
              "\n",
              "                                          text_token  \n",
              "0  [1, time, ticking, fast, relive, past, happy, ...  \n",
              "1  [2, lotus, flower, hasuka, seems, konamon, day...  \n",
              "2  [3, happy, birthday, one, smokin, hot, mama, h...  \n",
              "3  [4, jwinnie, best, cheer, jwinnie, omg, left, ...  \n",
              "4  [5, wth, u, vcheart, suit, good, morning, dear...  "
            ],
            "text/html": [
              "\n",
              "  <div id=\"df-25c779a3-da30-4847-a665-2c724e8e57ec\">\n",
              "    <div class=\"colab-df-container\">\n",
              "      <div>\n",
              "<style scoped>\n",
              "    .dataframe tbody tr th:only-of-type {\n",
              "        vertical-align: middle;\n",
              "    }\n",
              "\n",
              "    .dataframe tbody tr th {\n",
              "        vertical-align: top;\n",
              "    }\n",
              "\n",
              "    .dataframe thead th {\n",
              "        text-align: right;\n",
              "    }\n",
              "</style>\n",
              "<table border=\"1\" class=\"dataframe\">\n",
              "  <thead>\n",
              "    <tr style=\"text-align: right;\">\n",
              "      <th></th>\n",
              "      <th>Sl no</th>\n",
              "      <th>Tweets</th>\n",
              "      <th>Search key</th>\n",
              "      <th>Feeling</th>\n",
              "      <th>TT</th>\n",
              "      <th>cleanD</th>\n",
              "      <th>Emoji_replace</th>\n",
              "      <th>text_token</th>\n",
              "    </tr>\n",
              "  </thead>\n",
              "  <tbody>\n",
              "    <tr>\n",
              "      <th>0</th>\n",
              "      <td>1</td>\n",
              "      <td>#1: @fe ed \"RT @MirayaDizon1: Time is ticking...</td>\n",
              "      <td>happy moments</td>\n",
              "      <td>happy</td>\n",
              "      <td>#1: @fe ed \"RT @MirayaDizon1: Time is ticking ...</td>\n",
              "      <td>time ticking fast relive past happy moments j...</td>\n",
              "      <td>#1: @fe ed \"RT @MirayaDizon1: Time is ticking ...</td>\n",
              "      <td>[1, time, ticking, fast, relive, past, happy, ...</td>\n",
              "    </tr>\n",
              "    <tr>\n",
              "      <th>1</th>\n",
              "      <td>2</td>\n",
              "      <td>#2: @蓮花 &amp;はすか ed \"RT @ninjaryugo: ＃コナモンの日 だそうで...</td>\n",
              "      <td>happy moments</td>\n",
              "      <td>happy</td>\n",
              "      <td># 2: @ Lotus Flower &amp; Hasuka ed \"RT @ninjaryug...</td>\n",
              "      <td>lotus flower hasuka seems konamon day reitera...</td>\n",
              "      <td># 2: @ Lotus Flower &amp; Hasuka ed \"RT @ninjaryug...</td>\n",
              "      <td>[2, lotus, flower, hasuka, seems, konamon, day...</td>\n",
              "    </tr>\n",
              "    <tr>\n",
              "      <th>2</th>\n",
              "      <td>3</td>\n",
              "      <td>#3: @Ris ♡ ed \"Happy birthday to one smokin h...</td>\n",
              "      <td>happy moments</td>\n",
              "      <td>happy</td>\n",
              "      <td>#3: @Ris ♡ ed \"Happy birthday to one smokin ho...</td>\n",
              "      <td>happy birthday one smokin hot mama hot love m...</td>\n",
              "      <td>#3: @Ris ♡ ed \"Happy birthday to one smokin ho...</td>\n",
              "      <td>[3, happy, birthday, one, smokin, hot, mama, h...</td>\n",
              "    </tr>\n",
              "    <tr>\n",
              "      <th>3</th>\n",
              "      <td>4</td>\n",
              "      <td>#4: @월월 [씍쯴사랑로봇] jwinnie is the best, cheer u...</td>\n",
              "      <td>happy moments</td>\n",
              "      <td>happy</td>\n",
              "      <td>#4: @월월 [씍쯴사랑로봇] jwinnie is the best, cheer up...</td>\n",
              "      <td>jwinnie best cheer jwinnie omg left  min   ms...</td>\n",
              "      <td>#4: @월월 [씍쯴사랑로봇] jwinnie is the best, cheer up...</td>\n",
              "      <td>[4, jwinnie, best, cheer, jwinnie, omg, left, ...</td>\n",
              "    </tr>\n",
              "    <tr>\n",
              "      <th>4</th>\n",
              "      <td>5</td>\n",
              "      <td>#5: @Madhurima wth u vc♥ ed \"Good morning dea...</td>\n",
              "      <td>happy moments</td>\n",
              "      <td>happy</td>\n",
              "      <td>#5: @Madhurima wth u vc♥ ed \"Good morning dear...</td>\n",
              "      <td>wth u vcheart suit good morning dearred heart...</td>\n",
              "      <td>#5: @Madhurima wth u vcheart_suit ed \"Good mor...</td>\n",
              "      <td>[5, wth, u, vcheart, suit, good, morning, dear...</td>\n",
              "    </tr>\n",
              "  </tbody>\n",
              "</table>\n",
              "</div>\n",
              "      <button class=\"colab-df-convert\" onclick=\"convertToInteractive('df-25c779a3-da30-4847-a665-2c724e8e57ec')\"\n",
              "              title=\"Convert this dataframe to an interactive table.\"\n",
              "              style=\"display:none;\">\n",
              "        \n",
              "  <svg xmlns=\"http://www.w3.org/2000/svg\" height=\"24px\"viewBox=\"0 0 24 24\"\n",
              "       width=\"24px\">\n",
              "    <path d=\"M0 0h24v24H0V0z\" fill=\"none\"/>\n",
              "    <path d=\"M18.56 5.44l.94 2.06.94-2.06 2.06-.94-2.06-.94-.94-2.06-.94 2.06-2.06.94zm-11 1L8.5 8.5l.94-2.06 2.06-.94-2.06-.94L8.5 2.5l-.94 2.06-2.06.94zm10 10l.94 2.06.94-2.06 2.06-.94-2.06-.94-.94-2.06-.94 2.06-2.06.94z\"/><path d=\"M17.41 7.96l-1.37-1.37c-.4-.4-.92-.59-1.43-.59-.52 0-1.04.2-1.43.59L10.3 9.45l-7.72 7.72c-.78.78-.78 2.05 0 2.83L4 21.41c.39.39.9.59 1.41.59.51 0 1.02-.2 1.41-.59l7.78-7.78 2.81-2.81c.8-.78.8-2.07 0-2.86zM5.41 20L4 18.59l7.72-7.72 1.47 1.35L5.41 20z\"/>\n",
              "  </svg>\n",
              "      </button>\n",
              "      \n",
              "  <style>\n",
              "    .colab-df-container {\n",
              "      display:flex;\n",
              "      flex-wrap:wrap;\n",
              "      gap: 12px;\n",
              "    }\n",
              "\n",
              "    .colab-df-convert {\n",
              "      background-color: #E8F0FE;\n",
              "      border: none;\n",
              "      border-radius: 50%;\n",
              "      cursor: pointer;\n",
              "      display: none;\n",
              "      fill: #1967D2;\n",
              "      height: 32px;\n",
              "      padding: 0 0 0 0;\n",
              "      width: 32px;\n",
              "    }\n",
              "\n",
              "    .colab-df-convert:hover {\n",
              "      background-color: #E2EBFA;\n",
              "      box-shadow: 0px 1px 2px rgba(60, 64, 67, 0.3), 0px 1px 3px 1px rgba(60, 64, 67, 0.15);\n",
              "      fill: #174EA6;\n",
              "    }\n",
              "\n",
              "    [theme=dark] .colab-df-convert {\n",
              "      background-color: #3B4455;\n",
              "      fill: #D2E3FC;\n",
              "    }\n",
              "\n",
              "    [theme=dark] .colab-df-convert:hover {\n",
              "      background-color: #434B5C;\n",
              "      box-shadow: 0px 1px 3px 1px rgba(0, 0, 0, 0.15);\n",
              "      filter: drop-shadow(0px 1px 2px rgba(0, 0, 0, 0.3));\n",
              "      fill: #FFFFFF;\n",
              "    }\n",
              "  </style>\n",
              "\n",
              "      <script>\n",
              "        const buttonEl =\n",
              "          document.querySelector('#df-25c779a3-da30-4847-a665-2c724e8e57ec button.colab-df-convert');\n",
              "        buttonEl.style.display =\n",
              "          google.colab.kernel.accessAllowed ? 'block' : 'none';\n",
              "\n",
              "        async function convertToInteractive(key) {\n",
              "          const element = document.querySelector('#df-25c779a3-da30-4847-a665-2c724e8e57ec');\n",
              "          const dataTable =\n",
              "            await google.colab.kernel.invokeFunction('convertToInteractive',\n",
              "                                                     [key], {});\n",
              "          if (!dataTable) return;\n",
              "\n",
              "          const docLinkHtml = 'Like what you see? Visit the ' +\n",
              "            '<a target=\"_blank\" href=https://colab.research.google.com/notebooks/data_table.ipynb>data table notebook</a>'\n",
              "            + ' to learn more about interactive tables.';\n",
              "          element.innerHTML = '';\n",
              "          dataTable['output_type'] = 'display_data';\n",
              "          await google.colab.output.renderOutput(dataTable, element);\n",
              "          const docLink = document.createElement('div');\n",
              "          docLink.innerHTML = docLinkHtml;\n",
              "          element.appendChild(docLink);\n",
              "        }\n",
              "      </script>\n",
              "    </div>\n",
              "  </div>\n",
              "  "
            ]
          },
          "metadata": {},
          "execution_count": 156
        }
      ]
    },
    {
      "cell_type": "markdown",
      "source": [
        "REMOVING URL"
      ],
      "metadata": {
        "id": "x-G0jJiSWTCR"
      }
    },
    {
      "cell_type": "code",
      "source": [
        "def remove_urls(text):\n",
        "    url_pattern = re.compile(r'https?://\\S+|www\\.\\S+')\n",
        "    return url_pattern.sub(r'', text)\n",
        "data['cleanD'] = data['cleanD'].apply(remove_urls)"
      ],
      "metadata": {
        "id": "IMn2-M36WKRt"
      },
      "execution_count": null,
      "outputs": []
    },
    {
      "cell_type": "markdown",
      "source": [
        "REMOVAL OF HTML TAGS"
      ],
      "metadata": {
        "id": "KmGN2so_WckJ"
      }
    },
    {
      "cell_type": "code",
      "source": [
        "from bs4 import BeautifulSoup\n",
        "#Function for removing html\n",
        "def html(text):\n",
        "    return BeautifulSoup(text, \"lxml\").text\n",
        "data['cleanD'] = data['cleanD'].apply(html)"
      ],
      "metadata": {
        "id": "okhO8OqtWcQj"
      },
      "execution_count": null,
      "outputs": []
    },
    {
      "cell_type": "markdown",
      "source": [
        "STOPWORDS REMOVAL"
      ],
      "metadata": {
        "id": "nV978vvOWocU"
      }
    },
    {
      "cell_type": "code",
      "source": [
        "import nltk\n",
        "nltk.download('stopwords')"
      ],
      "metadata": {
        "colab": {
          "base_uri": "https://localhost:8080/"
        },
        "id": "x-7x20_Cnd52",
        "outputId": "28f9d08a-ca42-49a8-ee15-9824a7424c16"
      },
      "execution_count": null,
      "outputs": [
        {
          "output_type": "stream",
          "name": "stdout",
          "text": [
            "[nltk_data] Downloading package stopwords to /root/nltk_data...\n",
            "[nltk_data]   Package stopwords is already up-to-date!\n"
          ]
        },
        {
          "output_type": "execute_result",
          "data": {
            "text/plain": [
              "True"
            ]
          },
          "metadata": {},
          "execution_count": 159
        }
      ]
    },
    {
      "cell_type": "code",
      "source": [
        "from nltk.corpus import stopwords\n",
        "STOPWORDS = set(stopwords.words('english'))\n",
        "def stopwords(text):\n",
        "    return \" \".join([word for word in str(text).split() if word not in STOPWORDS])\n",
        "data['cleanD'] = data['cleanD'].apply(stopwords)"
      ],
      "metadata": {
        "id": "UOlSgZQ5Wn8S"
      },
      "execution_count": null,
      "outputs": []
    },
    {
      "cell_type": "markdown",
      "source": [
        "COMMON WORD REMOVAL"
      ],
      "metadata": {
        "id": "gO2rGQASW5gq"
      }
    },
    {
      "cell_type": "code",
      "source": [
        "from collections import Counter\n",
        "cnt = Counter()\n",
        "for text in data[\"cleanD\"].values:\n",
        "    for word in text.split():\n",
        "        cnt[word] += 1\n",
        "        \n",
        "cnt.most_common(4)"
      ],
      "metadata": {
        "colab": {
          "base_uri": "https://localhost:8080/"
        },
        "id": "ysCgXFlBW4o8",
        "outputId": "014518ff-6c61-46b0-93b8-0f7979f6a3bf"
      },
      "execution_count": null,
      "outputs": [
        {
          "output_type": "execute_result",
          "data": {
            "text/plain": [
              "[('like', 726), ('people', 576), ('heart', 543), ('happy', 497)]"
            ]
          },
          "metadata": {},
          "execution_count": 161
        }
      ]
    },
    {
      "cell_type": "code",
      "source": [
        "freq = set([w for (w, wc) in cnt.most_common(5)])\n",
        "# function to remove the frequent words\n",
        "def freqwords(text):\n",
        "    return \" \".join([word for word in str(text).split() if word not \n",
        "in freq])\n",
        "# Passing the function freqwords\n",
        "data['cleanD'] = data['cleanD'].apply(freqwords)"
      ],
      "metadata": {
        "id": "9Sc4XMR2WKOn"
      },
      "execution_count": null,
      "outputs": []
    },
    {
      "cell_type": "markdown",
      "source": [
        "RARE WORD REMOVAL"
      ],
      "metadata": {
        "id": "xtdDVI4UXCJT"
      }
    },
    {
      "cell_type": "code",
      "source": [
        "'text_rare'\n",
        "freq = pd.Series(' '.join(data['cleanD']).split()).value_counts()[-10:] # 10 rare words\n",
        "freq = list(freq.index)\n",
        "data['cleanD'] = data['cleanD'].apply(lambda x: \" \".join(x for x in x.split() if x not in freq))\n",
        "data['cleanD'].head()"
      ],
      "metadata": {
        "colab": {
          "base_uri": "https://localhost:8080/"
        },
        "id": "f8G-QSBFWKJH",
        "outputId": "cd21756e-5555-4a47-bd42-8e11fca55af6"
      },
      "execution_count": null,
      "outputs": [
        {
          "output_type": "execute_result",
          "data": {
            "text/plain": [
              "0    time ticking fast relive past moments joy ever...\n",
              "1    lotus flower hasuka seems konamon day reiterat...\n",
              "2    birthday smokin hot mama hot love much lil ama...\n",
              "3    jwinnie best cheer jwinnie omg left min msgs a...\n",
              "4    wth u vcheart suit good morning dearred wishin...\n",
              "Name: cleanD, dtype: object"
            ]
          },
          "metadata": {},
          "execution_count": 163
        }
      ]
    },
    {
      "cell_type": "markdown",
      "source": [
        "SPELLING CORRECTION"
      ],
      "metadata": {
        "id": "_cBfUUNbpOyg"
      }
    },
    {
      "cell_type": "code",
      "source": [
        "from textblob import TextBlob\n",
        "data['cleanD'][:5].apply(lambda x: str(TextBlob(x).correct()))"
      ],
      "metadata": {
        "colab": {
          "base_uri": "https://localhost:8080/"
        },
        "id": "5Dw6uhRwpOef",
        "outputId": "f45a7f14-ca61-4f01-edd4-e3a38b935d4d"
      },
      "execution_count": null,
      "outputs": [
        {
          "output_type": "execute_result",
          "data": {
            "text/plain": [
              "0    time ticking fast relive past moments joy ever...\n",
              "1    lots flower vaska seems konamon day reiterated...\n",
              "2    birthday smoking hot mamma hot love much ll am...\n",
              "3    jwinnie best cheer jwinnie org left min legs a...\n",
              "4    with u heart suit good morning learned wishing...\n",
              "Name: cleanD, dtype: object"
            ]
          },
          "metadata": {},
          "execution_count": 164
        }
      ]
    },
    {
      "cell_type": "markdown",
      "source": [
        "TOKENIZATION"
      ],
      "metadata": {
        "id": "tVb7iIVGXb-1"
      }
    },
    {
      "cell_type": "code",
      "source": [
        "def tokenization(text):\n",
        "    text = re.split('\\W+', text)\n",
        "    return text"
      ],
      "metadata": {
        "id": "o3MWTParXbDZ"
      },
      "execution_count": null,
      "outputs": []
    },
    {
      "cell_type": "code",
      "source": [
        "data['text_token'] = data['cleanD'].apply(lambda x: tokenization(x.lower()))"
      ],
      "metadata": {
        "id": "CyKM-pNUXbAA"
      },
      "execution_count": null,
      "outputs": []
    },
    {
      "cell_type": "markdown",
      "source": [
        "STEMMING AND LEMMATIZATION"
      ],
      "metadata": {
        "id": "Lop00lIJXkLH"
      }
    },
    {
      "cell_type": "code",
      "source": [
        "from nltk.corpus import wordnet\n",
        "from nltk.stem import WordNetLemmatizer"
      ],
      "metadata": {
        "id": "xqZIepaSXa8u"
      },
      "execution_count": null,
      "outputs": []
    },
    {
      "cell_type": "code",
      "source": [
        "nltk.download('wordnet')"
      ],
      "metadata": {
        "colab": {
          "base_uri": "https://localhost:8080/"
        },
        "id": "JBBrEJnmqZCG",
        "outputId": "97a8ec60-0824-462f-fe23-c1a5f5f8e829"
      },
      "execution_count": null,
      "outputs": [
        {
          "output_type": "stream",
          "name": "stdout",
          "text": [
            "[nltk_data] Downloading package wordnet to /root/nltk_data...\n",
            "[nltk_data]   Package wordnet is already up-to-date!\n"
          ]
        },
        {
          "output_type": "execute_result",
          "data": {
            "text/plain": [
              "True"
            ]
          },
          "metadata": {},
          "execution_count": 168
        }
      ]
    },
    {
      "cell_type": "code",
      "source": [
        "from nltk import pos_tag"
      ],
      "metadata": {
        "id": "f8fOK0RtsS95"
      },
      "execution_count": null,
      "outputs": []
    },
    {
      "cell_type": "code",
      "source": [
        "def postag(text):\n",
        "    pos_dict = {'J':wordnet.ADJ, 'V':wordnet.VERB, 'N':wordnet.NOUN, 'R':wordnet.ADV}\n",
        "    tags = pos_tag(text)\n",
        "    newlist = []\n",
        "    for word, tag in tags:\n",
        "      newlist.append(tuple([word, pos_dict.get(tag[0])]))\n",
        "    return newlist\n"
      ],
      "metadata": {
        "id": "10L4k8R9rxhl"
      },
      "execution_count": null,
      "outputs": []
    },
    {
      "cell_type": "code",
      "source": [
        "postag([\"time\", \"ticking\", \"fast\", \"relive\", \"past\", \"moments\",\"me\"])"
      ],
      "metadata": {
        "colab": {
          "base_uri": "https://localhost:8080/"
        },
        "id": "BNkI2VCftJw_",
        "outputId": "e9b5d7f0-ab6f-4436-ce68-aa170f0388ba"
      },
      "execution_count": null,
      "outputs": [
        {
          "output_type": "execute_result",
          "data": {
            "text/plain": [
              "[('time', 'n'),\n",
              " ('ticking', 'v'),\n",
              " ('fast', 'r'),\n",
              " ('relive', 'a'),\n",
              " ('past', 'n'),\n",
              " ('moments', 'n'),\n",
              " ('me', None)]"
            ]
          },
          "metadata": {},
          "execution_count": 188
        }
      ]
    },
    {
      "cell_type": "code",
      "source": [
        "def pos(text):\n",
        "    pos_dict = {'J':wordnet.ADJ, 'V':wordnet.VERB, 'N':wordnet.NOUN, 'R':wordnet.ADV}\n",
        "    text = re.sub('[^A-Za-z]+', ' ', text)\n",
        "    tags = pos_tag(word_tokenize(text))\n",
        "    newlist = []\n",
        "    for word, tag in tags:\n",
        "        if word.lower() not in set(stopwords.words('english')):\n",
        "            newlist.append(tuple([word, pos_dict.get(tag[0])]))\n",
        "    return newlist"
      ],
      "metadata": {
        "id": "lRotDpVUuWCg"
      },
      "execution_count": null,
      "outputs": []
    },
    {
      "cell_type": "code",
      "source": [
        "word[0].isdigit()"
      ],
      "metadata": {
        "id": "RvD5jROOuM-s"
      },
      "execution_count": null,
      "outputs": []
    },
    {
      "cell_type": "code",
      "source": [
        "data['pos'] = data['cleanD'].apply(pos)"
      ],
      "metadata": {
        "id": "AkGYTcaJsDVp"
      },
      "execution_count": null,
      "outputs": []
    },
    {
      "cell_type": "code",
      "source": [
        "data"
      ],
      "metadata": {
        "colab": {
          "base_uri": "https://localhost:8080/",
          "height": 815
        },
        "id": "ZmcbWj39vfQ4",
        "outputId": "6f7de20e-bdaf-4cea-d6d3-bafb35295ff4"
      },
      "execution_count": null,
      "outputs": [
        {
          "output_type": "execute_result",
          "data": {
            "text/plain": [
              "       Sl no                                             Tweets  \\\n",
              "0          1   #1: @fe ed \"RT @MirayaDizon1: Time is ticking...   \n",
              "1          2   #2: @蓮花 &はすか ed \"RT @ninjaryugo: ＃コナモンの日 だそうで...   \n",
              "2          3   #3: @Ris ♡ ed \"Happy birthday to one smokin h...   \n",
              "3          4   #4: @월월 [씍쯴사랑로봇] jwinnie is the best, cheer u...   \n",
              "4          5   #5: @Madhurima wth u vc♥ ed \"Good morning dea...   \n",
              "...      ...                                                ...   \n",
              "10012  10016  Tweet #85: @Matteo tweeted \"@GameSpot @Frannkc...   \n",
              "10013  10017  Tweet #86: @𝐚𝐧𝐢𝐬𝐭𝐨𝐧 tweeted \"@BRATgiirl_ that’...   \n",
              "10014  10018  Tweet #87: @Chowkidar Ricky Sharma tweeted \"@M...   \n",
              "10015  10019  Tweet #88: @Katoe.EXE tweeted \"u know what i h...   \n",
              "10016  10019  Tweet #88: @Katoe.EXE tweeted \"u know what i h...   \n",
              "\n",
              "          Search key Feeling  \\\n",
              "0      happy moments   happy   \n",
              "1      happy moments   happy   \n",
              "2      happy moments   happy   \n",
              "3      happy moments   happy   \n",
              "4      happy moments   happy   \n",
              "...              ...     ...   \n",
              "10012     irritating   angry   \n",
              "10013     irritating   angry   \n",
              "10014     irritating   angry   \n",
              "10015     irritating   angry   \n",
              "10016     irritating   angry   \n",
              "\n",
              "                                                      TT  \\\n",
              "0      #1: @fe ed \"RT @MirayaDizon1: Time is ticking ...   \n",
              "1      # 2: @ Lotus Flower & Hasuka ed \"RT @ninjaryug...   \n",
              "2      #3: @Ris ♡ ed \"Happy birthday to one smokin ho...   \n",
              "3      #4: @월월 [씍쯴사랑로봇] jwinnie is the best, cheer up...   \n",
              "4      #5: @Madhurima wth u vc♥ ed \"Good morning dear...   \n",
              "...                                                  ...   \n",
              "10012  Tweet #85: @Matteo tweeted \"@GameSpot @Frannkc...   \n",
              "10013  Tweet #86: @𝐚𝐧𝐢𝐬𝐭𝐨𝐧 tweeted \"@BRATgiirl_ that’...   \n",
              "10014  Tweet #87: @Chowkidar Ricky Sharma tweeted \"@M...   \n",
              "10015  Tweet #88: @Katoe.EXE tweeted \"u know what i h...   \n",
              "10016  Tweet #88: @Katoe.EXE tweeted \"u know what i h...   \n",
              "\n",
              "                                                  cleanD  \\\n",
              "0      time ticking fast relive past moments joy ever...   \n",
              "1      lotus flower hasuka seems konamon day reiterat...   \n",
              "2      birthday smokin hot mama hot love much lil ama...   \n",
              "3      jwinnie best cheer jwinnie omg left min msgs a...   \n",
              "4      wth u vcheart suit good morning dearred wishin...   \n",
              "...                                                  ...   \n",
              "10012  controversy caused yes know expect kind corpor...   \n",
              "10013             irritating pouting wish cared kids wtf   \n",
              "10014  ricky sharma g aapne besharmi ki saari hadhe p...   \n",
              "10015  exe u know hate indie alternative whatever gen...   \n",
              "10016  exe u know hate indie alternative whatever gen...   \n",
              "\n",
              "                                           Emoji_replace  \\\n",
              "0      #1: @fe ed \"RT @MirayaDizon1: Time is ticking ...   \n",
              "1      # 2: @ Lotus Flower & Hasuka ed \"RT @ninjaryug...   \n",
              "2      #3: @Ris ♡ ed \"Happy birthday to one smokin ho...   \n",
              "3      #4: @월월 [씍쯴사랑로봇] jwinnie is the best, cheer up...   \n",
              "4      #5: @Madhurima wth u vcheart_suit ed \"Good mor...   \n",
              "...                                                  ...   \n",
              "10012  Tweet #85: @Matteo tweeted \"@GameSpot @Frannkc...   \n",
              "10013  Tweet #86: @𝐚𝐧𝐢𝐬𝐭𝐨𝐧 tweeted \"@BRATgiirl_ that’...   \n",
              "10014  Tweet #87: @Chowkidar Ricky Sharma tweeted \"@M...   \n",
              "10015  Tweet #88: @Katoe.EXE tweeted \"u know what i h...   \n",
              "10016  Tweet #88: @Katoe.EXE tweeted \"u know what i h...   \n",
              "\n",
              "                                              text_token  \\\n",
              "0      [time, ticking, fast, relive, past, moments, j...   \n",
              "1      [lotus, flower, hasuka, seems, konamon, day, r...   \n",
              "2      [birthday, smokin, hot, mama, hot, love, much,...   \n",
              "3      [jwinnie, best, cheer, jwinnie, omg, left, min...   \n",
              "4      [wth, u, vcheart, suit, good, morning, dearred...   \n",
              "...                                                  ...   \n",
              "10012  [controversy, caused, yes, know, expect, kind,...   \n",
              "10013      [irritating, pouting, wish, cared, kids, wtf]   \n",
              "10014  [ricky, sharma, g, aapne, besharmi, ki, saari,...   \n",
              "10015  [exe, u, know, hate, indie, alternative, whate...   \n",
              "10016  [exe, u, know, hate, indie, alternative, whate...   \n",
              "\n",
              "                                                     pos  \n",
              "0      [(time, n), (ticking, v), (fast, r), (relive, ...  \n",
              "1      [(lotus, n), (flower, n), (hasuka, n), (seems,...  \n",
              "2      [(birthday, a), (smokin, None), (hot, a), (mam...  \n",
              "3      [(jwinnie, n), (best, a), (cheer, n), (jwinnie...  \n",
              "4      [(wth, n), (u, a), (vcheart, n), (suit, n), (g...  \n",
              "...                                                  ...  \n",
              "10012  [(controversy, n), (caused, v), (yes, r), (kno...  \n",
              "10013  [(irritating, v), (pouting, v), (wish, a), (ca...  \n",
              "10014  [(ricky, a), (sharma, n), (g, n), (aapne, n), ...  \n",
              "10015  [(exe, a), (u, n), (know, v), (hate, n), (indi...  \n",
              "10016  [(exe, a), (u, n), (know, v), (hate, n), (indi...  \n",
              "\n",
              "[10017 rows x 9 columns]"
            ],
            "text/html": [
              "\n",
              "  <div id=\"df-21ef05b1-4d83-4a59-b9d0-e1c044ff4e7b\">\n",
              "    <div class=\"colab-df-container\">\n",
              "      <div>\n",
              "<style scoped>\n",
              "    .dataframe tbody tr th:only-of-type {\n",
              "        vertical-align: middle;\n",
              "    }\n",
              "\n",
              "    .dataframe tbody tr th {\n",
              "        vertical-align: top;\n",
              "    }\n",
              "\n",
              "    .dataframe thead th {\n",
              "        text-align: right;\n",
              "    }\n",
              "</style>\n",
              "<table border=\"1\" class=\"dataframe\">\n",
              "  <thead>\n",
              "    <tr style=\"text-align: right;\">\n",
              "      <th></th>\n",
              "      <th>Sl no</th>\n",
              "      <th>Tweets</th>\n",
              "      <th>Search key</th>\n",
              "      <th>Feeling</th>\n",
              "      <th>TT</th>\n",
              "      <th>cleanD</th>\n",
              "      <th>Emoji_replace</th>\n",
              "      <th>text_token</th>\n",
              "      <th>pos</th>\n",
              "    </tr>\n",
              "  </thead>\n",
              "  <tbody>\n",
              "    <tr>\n",
              "      <th>0</th>\n",
              "      <td>1</td>\n",
              "      <td>#1: @fe ed \"RT @MirayaDizon1: Time is ticking...</td>\n",
              "      <td>happy moments</td>\n",
              "      <td>happy</td>\n",
              "      <td>#1: @fe ed \"RT @MirayaDizon1: Time is ticking ...</td>\n",
              "      <td>time ticking fast relive past moments joy ever...</td>\n",
              "      <td>#1: @fe ed \"RT @MirayaDizon1: Time is ticking ...</td>\n",
              "      <td>[time, ticking, fast, relive, past, moments, j...</td>\n",
              "      <td>[(time, n), (ticking, v), (fast, r), (relive, ...</td>\n",
              "    </tr>\n",
              "    <tr>\n",
              "      <th>1</th>\n",
              "      <td>2</td>\n",
              "      <td>#2: @蓮花 &amp;はすか ed \"RT @ninjaryugo: ＃コナモンの日 だそうで...</td>\n",
              "      <td>happy moments</td>\n",
              "      <td>happy</td>\n",
              "      <td># 2: @ Lotus Flower &amp; Hasuka ed \"RT @ninjaryug...</td>\n",
              "      <td>lotus flower hasuka seems konamon day reiterat...</td>\n",
              "      <td># 2: @ Lotus Flower &amp; Hasuka ed \"RT @ninjaryug...</td>\n",
              "      <td>[lotus, flower, hasuka, seems, konamon, day, r...</td>\n",
              "      <td>[(lotus, n), (flower, n), (hasuka, n), (seems,...</td>\n",
              "    </tr>\n",
              "    <tr>\n",
              "      <th>2</th>\n",
              "      <td>3</td>\n",
              "      <td>#3: @Ris ♡ ed \"Happy birthday to one smokin h...</td>\n",
              "      <td>happy moments</td>\n",
              "      <td>happy</td>\n",
              "      <td>#3: @Ris ♡ ed \"Happy birthday to one smokin ho...</td>\n",
              "      <td>birthday smokin hot mama hot love much lil ama...</td>\n",
              "      <td>#3: @Ris ♡ ed \"Happy birthday to one smokin ho...</td>\n",
              "      <td>[birthday, smokin, hot, mama, hot, love, much,...</td>\n",
              "      <td>[(birthday, a), (smokin, None), (hot, a), (mam...</td>\n",
              "    </tr>\n",
              "    <tr>\n",
              "      <th>3</th>\n",
              "      <td>4</td>\n",
              "      <td>#4: @월월 [씍쯴사랑로봇] jwinnie is the best, cheer u...</td>\n",
              "      <td>happy moments</td>\n",
              "      <td>happy</td>\n",
              "      <td>#4: @월월 [씍쯴사랑로봇] jwinnie is the best, cheer up...</td>\n",
              "      <td>jwinnie best cheer jwinnie omg left min msgs a...</td>\n",
              "      <td>#4: @월월 [씍쯴사랑로봇] jwinnie is the best, cheer up...</td>\n",
              "      <td>[jwinnie, best, cheer, jwinnie, omg, left, min...</td>\n",
              "      <td>[(jwinnie, n), (best, a), (cheer, n), (jwinnie...</td>\n",
              "    </tr>\n",
              "    <tr>\n",
              "      <th>4</th>\n",
              "      <td>5</td>\n",
              "      <td>#5: @Madhurima wth u vc♥ ed \"Good morning dea...</td>\n",
              "      <td>happy moments</td>\n",
              "      <td>happy</td>\n",
              "      <td>#5: @Madhurima wth u vc♥ ed \"Good morning dear...</td>\n",
              "      <td>wth u vcheart suit good morning dearred wishin...</td>\n",
              "      <td>#5: @Madhurima wth u vcheart_suit ed \"Good mor...</td>\n",
              "      <td>[wth, u, vcheart, suit, good, morning, dearred...</td>\n",
              "      <td>[(wth, n), (u, a), (vcheart, n), (suit, n), (g...</td>\n",
              "    </tr>\n",
              "    <tr>\n",
              "      <th>...</th>\n",
              "      <td>...</td>\n",
              "      <td>...</td>\n",
              "      <td>...</td>\n",
              "      <td>...</td>\n",
              "      <td>...</td>\n",
              "      <td>...</td>\n",
              "      <td>...</td>\n",
              "      <td>...</td>\n",
              "      <td>...</td>\n",
              "    </tr>\n",
              "    <tr>\n",
              "      <th>10012</th>\n",
              "      <td>10016</td>\n",
              "      <td>Tweet #85: @Matteo tweeted \"@GameSpot @Frannkc...</td>\n",
              "      <td>irritating</td>\n",
              "      <td>angry</td>\n",
              "      <td>Tweet #85: @Matteo tweeted \"@GameSpot @Frannkc...</td>\n",
              "      <td>controversy caused yes know expect kind corpor...</td>\n",
              "      <td>Tweet #85: @Matteo tweeted \"@GameSpot @Frannkc...</td>\n",
              "      <td>[controversy, caused, yes, know, expect, kind,...</td>\n",
              "      <td>[(controversy, n), (caused, v), (yes, r), (kno...</td>\n",
              "    </tr>\n",
              "    <tr>\n",
              "      <th>10013</th>\n",
              "      <td>10017</td>\n",
              "      <td>Tweet #86: @𝐚𝐧𝐢𝐬𝐭𝐨𝐧 tweeted \"@BRATgiirl_ that’...</td>\n",
              "      <td>irritating</td>\n",
              "      <td>angry</td>\n",
              "      <td>Tweet #86: @𝐚𝐧𝐢𝐬𝐭𝐨𝐧 tweeted \"@BRATgiirl_ that’...</td>\n",
              "      <td>irritating pouting wish cared kids wtf</td>\n",
              "      <td>Tweet #86: @𝐚𝐧𝐢𝐬𝐭𝐨𝐧 tweeted \"@BRATgiirl_ that’...</td>\n",
              "      <td>[irritating, pouting, wish, cared, kids, wtf]</td>\n",
              "      <td>[(irritating, v), (pouting, v), (wish, a), (ca...</td>\n",
              "    </tr>\n",
              "    <tr>\n",
              "      <th>10014</th>\n",
              "      <td>10018</td>\n",
              "      <td>Tweet #87: @Chowkidar Ricky Sharma tweeted \"@M...</td>\n",
              "      <td>irritating</td>\n",
              "      <td>angry</td>\n",
              "      <td>Tweet #87: @Chowkidar Ricky Sharma tweeted \"@M...</td>\n",
              "      <td>ricky sharma g aapne besharmi ki saari hadhe p...</td>\n",
              "      <td>Tweet #87: @Chowkidar Ricky Sharma tweeted \"@M...</td>\n",
              "      <td>[ricky, sharma, g, aapne, besharmi, ki, saari,...</td>\n",
              "      <td>[(ricky, a), (sharma, n), (g, n), (aapne, n), ...</td>\n",
              "    </tr>\n",
              "    <tr>\n",
              "      <th>10015</th>\n",
              "      <td>10019</td>\n",
              "      <td>Tweet #88: @Katoe.EXE tweeted \"u know what i h...</td>\n",
              "      <td>irritating</td>\n",
              "      <td>angry</td>\n",
              "      <td>Tweet #88: @Katoe.EXE tweeted \"u know what i h...</td>\n",
              "      <td>exe u know hate indie alternative whatever gen...</td>\n",
              "      <td>Tweet #88: @Katoe.EXE tweeted \"u know what i h...</td>\n",
              "      <td>[exe, u, know, hate, indie, alternative, whate...</td>\n",
              "      <td>[(exe, a), (u, n), (know, v), (hate, n), (indi...</td>\n",
              "    </tr>\n",
              "    <tr>\n",
              "      <th>10016</th>\n",
              "      <td>10019</td>\n",
              "      <td>Tweet #88: @Katoe.EXE tweeted \"u know what i h...</td>\n",
              "      <td>irritating</td>\n",
              "      <td>angry</td>\n",
              "      <td>Tweet #88: @Katoe.EXE tweeted \"u know what i h...</td>\n",
              "      <td>exe u know hate indie alternative whatever gen...</td>\n",
              "      <td>Tweet #88: @Katoe.EXE tweeted \"u know what i h...</td>\n",
              "      <td>[exe, u, know, hate, indie, alternative, whate...</td>\n",
              "      <td>[(exe, a), (u, n), (know, v), (hate, n), (indi...</td>\n",
              "    </tr>\n",
              "  </tbody>\n",
              "</table>\n",
              "<p>10017 rows × 9 columns</p>\n",
              "</div>\n",
              "      <button class=\"colab-df-convert\" onclick=\"convertToInteractive('df-21ef05b1-4d83-4a59-b9d0-e1c044ff4e7b')\"\n",
              "              title=\"Convert this dataframe to an interactive table.\"\n",
              "              style=\"display:none;\">\n",
              "        \n",
              "  <svg xmlns=\"http://www.w3.org/2000/svg\" height=\"24px\"viewBox=\"0 0 24 24\"\n",
              "       width=\"24px\">\n",
              "    <path d=\"M0 0h24v24H0V0z\" fill=\"none\"/>\n",
              "    <path d=\"M18.56 5.44l.94 2.06.94-2.06 2.06-.94-2.06-.94-.94-2.06-.94 2.06-2.06.94zm-11 1L8.5 8.5l.94-2.06 2.06-.94-2.06-.94L8.5 2.5l-.94 2.06-2.06.94zm10 10l.94 2.06.94-2.06 2.06-.94-2.06-.94-.94-2.06-.94 2.06-2.06.94z\"/><path d=\"M17.41 7.96l-1.37-1.37c-.4-.4-.92-.59-1.43-.59-.52 0-1.04.2-1.43.59L10.3 9.45l-7.72 7.72c-.78.78-.78 2.05 0 2.83L4 21.41c.39.39.9.59 1.41.59.51 0 1.02-.2 1.41-.59l7.78-7.78 2.81-2.81c.8-.78.8-2.07 0-2.86zM5.41 20L4 18.59l7.72-7.72 1.47 1.35L5.41 20z\"/>\n",
              "  </svg>\n",
              "      </button>\n",
              "      \n",
              "  <style>\n",
              "    .colab-df-container {\n",
              "      display:flex;\n",
              "      flex-wrap:wrap;\n",
              "      gap: 12px;\n",
              "    }\n",
              "\n",
              "    .colab-df-convert {\n",
              "      background-color: #E8F0FE;\n",
              "      border: none;\n",
              "      border-radius: 50%;\n",
              "      cursor: pointer;\n",
              "      display: none;\n",
              "      fill: #1967D2;\n",
              "      height: 32px;\n",
              "      padding: 0 0 0 0;\n",
              "      width: 32px;\n",
              "    }\n",
              "\n",
              "    .colab-df-convert:hover {\n",
              "      background-color: #E2EBFA;\n",
              "      box-shadow: 0px 1px 2px rgba(60, 64, 67, 0.3), 0px 1px 3px 1px rgba(60, 64, 67, 0.15);\n",
              "      fill: #174EA6;\n",
              "    }\n",
              "\n",
              "    [theme=dark] .colab-df-convert {\n",
              "      background-color: #3B4455;\n",
              "      fill: #D2E3FC;\n",
              "    }\n",
              "\n",
              "    [theme=dark] .colab-df-convert:hover {\n",
              "      background-color: #434B5C;\n",
              "      box-shadow: 0px 1px 3px 1px rgba(0, 0, 0, 0.15);\n",
              "      filter: drop-shadow(0px 1px 2px rgba(0, 0, 0, 0.3));\n",
              "      fill: #FFFFFF;\n",
              "    }\n",
              "  </style>\n",
              "\n",
              "      <script>\n",
              "        const buttonEl =\n",
              "          document.querySelector('#df-21ef05b1-4d83-4a59-b9d0-e1c044ff4e7b button.colab-df-convert');\n",
              "        buttonEl.style.display =\n",
              "          google.colab.kernel.accessAllowed ? 'block' : 'none';\n",
              "\n",
              "        async function convertToInteractive(key) {\n",
              "          const element = document.querySelector('#df-21ef05b1-4d83-4a59-b9d0-e1c044ff4e7b');\n",
              "          const dataTable =\n",
              "            await google.colab.kernel.invokeFunction('convertToInteractive',\n",
              "                                                     [key], {});\n",
              "          if (!dataTable) return;\n",
              "\n",
              "          const docLinkHtml = 'Like what you see? Visit the ' +\n",
              "            '<a target=\"_blank\" href=https://colab.research.google.com/notebooks/data_table.ipynb>data table notebook</a>'\n",
              "            + ' to learn more about interactive tables.';\n",
              "          element.innerHTML = '';\n",
              "          dataTable['output_type'] = 'display_data';\n",
              "          await google.colab.output.renderOutput(dataTable, element);\n",
              "          const docLink = document.createElement('div');\n",
              "          docLink.innerHTML = docLinkHtml;\n",
              "          element.appendChild(docLink);\n",
              "        }\n",
              "      </script>\n",
              "    </div>\n",
              "  </div>\n",
              "  "
            ]
          },
          "metadata": {},
          "execution_count": 201
        }
      ]
    },
    {
      "cell_type": "code",
      "source": [
        "nltk.download('punkt')"
      ],
      "metadata": {
        "colab": {
          "base_uri": "https://localhost:8080/"
        },
        "id": "XBTBuvtMvVyK",
        "outputId": "66b918ac-b217-439a-f5e3-9417d57e0867"
      },
      "execution_count": null,
      "outputs": [
        {
          "output_type": "stream",
          "name": "stdout",
          "text": [
            "[nltk_data] Downloading package punkt to /root/nltk_data...\n",
            "[nltk_data]   Unzipping tokenizers/punkt.zip.\n"
          ]
        },
        {
          "output_type": "execute_result",
          "data": {
            "text/plain": [
              "True"
            ]
          },
          "metadata": {},
          "execution_count": 199
        }
      ]
    },
    {
      "cell_type": "code",
      "source": [
        "import nltk\n",
        "from nltk.tokenize import word_tokenize\n",
        "from nltk.corpus import stopwords\n",
        "from nltk.corpus import wordnet\n",
        "from nltk import pos_tag\n",
        "from nltk.stem import WordNetLemmatizer"
      ],
      "metadata": {
        "id": "1YfKU8f4vRyE"
      },
      "execution_count": null,
      "outputs": []
    },
    {
      "cell_type": "code",
      "source": [
        "nltk.download('averaged_perceptron_tagger')"
      ],
      "metadata": {
        "colab": {
          "base_uri": "https://localhost:8080/"
        },
        "id": "LuwrDroDrW3G",
        "outputId": "42f6318b-e49c-4f1a-c74c-b21c413e79de"
      },
      "execution_count": null,
      "outputs": [
        {
          "output_type": "stream",
          "name": "stdout",
          "text": [
            "[nltk_data] Downloading package averaged_perceptron_tagger to\n",
            "[nltk_data]     /root/nltk_data...\n",
            "[nltk_data]   Unzipping taggers/averaged_perceptron_tagger.zip.\n"
          ]
        },
        {
          "output_type": "execute_result",
          "data": {
            "text/plain": [
              "True"
            ]
          },
          "metadata": {},
          "execution_count": 177
        }
      ]
    },
    {
      "cell_type": "code",
      "source": [
        "def lemmatize(pos_data):\n",
        "  lemma_rew = \" \"\n",
        "  wordnet_lemmatizer = WordNetLemmatizer()\n",
        "  for word, pos in pos_data:\n",
        "    if not pos:\n",
        "      lemma = word\n",
        "      lemma_rew = lemma_rew + \" \" + lemma\n",
        "    else:\n",
        "      lemma = wordnet_lemmatizer.lemmatize(word, pos=pos)\n",
        "      lemma_rew = lemma_rew + \" \" + lemma\n",
        "  return lemma_rew"
      ],
      "metadata": {
        "id": "22Y-1-QxXa1N"
      },
      "execution_count": null,
      "outputs": []
    },
    {
      "cell_type": "code",
      "source": [
        "data[\"text_lemma\"] = data[\"pos\"].apply(lemmatize)\n",
        "data.head()"
      ],
      "metadata": {
        "colab": {
          "base_uri": "https://localhost:8080/",
          "height": 441
        },
        "id": "HwDpV5fuXaPG",
        "outputId": "0c599da7-14b3-41b7-8e9c-63326884b319"
      },
      "execution_count": null,
      "outputs": [
        {
          "output_type": "execute_result",
          "data": {
            "text/plain": [
              "   Sl no                                             Tweets     Search key  \\\n",
              "0      1   #1: @fe ed \"RT @MirayaDizon1: Time is ticking...  happy moments   \n",
              "1      2   #2: @蓮花 &はすか ed \"RT @ninjaryugo: ＃コナモンの日 だそうで...  happy moments   \n",
              "2      3   #3: @Ris ♡ ed \"Happy birthday to one smokin h...  happy moments   \n",
              "3      4   #4: @월월 [씍쯴사랑로봇] jwinnie is the best, cheer u...  happy moments   \n",
              "4      5   #5: @Madhurima wth u vc♥ ed \"Good morning dea...  happy moments   \n",
              "\n",
              "  Feeling                                                 TT  \\\n",
              "0   happy  #1: @fe ed \"RT @MirayaDizon1: Time is ticking ...   \n",
              "1   happy  # 2: @ Lotus Flower & Hasuka ed \"RT @ninjaryug...   \n",
              "2   happy  #3: @Ris ♡ ed \"Happy birthday to one smokin ho...   \n",
              "3   happy  #4: @월월 [씍쯴사랑로봇] jwinnie is the best, cheer up...   \n",
              "4   happy  #5: @Madhurima wth u vc♥ ed \"Good morning dear...   \n",
              "\n",
              "                                              cleanD  \\\n",
              "0  time ticking fast relive past moments joy ever...   \n",
              "1  lotus flower hasuka seems konamon day reiterat...   \n",
              "2  birthday smokin hot mama hot love much lil ama...   \n",
              "3  jwinnie best cheer jwinnie omg left min msgs a...   \n",
              "4  wth u vcheart suit good morning dearred wishin...   \n",
              "\n",
              "                                       Emoji_replace  \\\n",
              "0  #1: @fe ed \"RT @MirayaDizon1: Time is ticking ...   \n",
              "1  # 2: @ Lotus Flower & Hasuka ed \"RT @ninjaryug...   \n",
              "2  #3: @Ris ♡ ed \"Happy birthday to one smokin ho...   \n",
              "3  #4: @월월 [씍쯴사랑로봇] jwinnie is the best, cheer up...   \n",
              "4  #5: @Madhurima wth u vcheart_suit ed \"Good mor...   \n",
              "\n",
              "                                          text_token  \\\n",
              "0  [time, ticking, fast, relive, past, moments, j...   \n",
              "1  [lotus, flower, hasuka, seems, konamon, day, r...   \n",
              "2  [birthday, smokin, hot, mama, hot, love, much,...   \n",
              "3  [jwinnie, best, cheer, jwinnie, omg, left, min...   \n",
              "4  [wth, u, vcheart, suit, good, morning, dearred...   \n",
              "\n",
              "                                                 pos  \\\n",
              "0  [(time, n), (ticking, v), (fast, r), (relive, ...   \n",
              "1  [(lotus, n), (flower, n), (hasuka, n), (seems,...   \n",
              "2  [(birthday, a), (smokin, None), (hot, a), (mam...   \n",
              "3  [(jwinnie, n), (best, a), (cheer, n), (jwinnie...   \n",
              "4  [(wth, n), (u, a), (vcheart, n), (suit, n), (g...   \n",
              "\n",
              "                                          text_lemma  \n",
              "0    time tick fast relive past moment joy everyo...  \n",
              "1    lotus flower hasuka seem konamon day reitera...  \n",
              "2    birthday smokin hot mama hot love much lil a...  \n",
              "3    jwinnie best cheer jwinnie omg leave min msg...  \n",
              "4    wth u vcheart suit good morning dearred wish...  "
            ],
            "text/html": [
              "\n",
              "  <div id=\"df-1963aa81-29df-482c-ad7c-13f03a68d472\">\n",
              "    <div class=\"colab-df-container\">\n",
              "      <div>\n",
              "<style scoped>\n",
              "    .dataframe tbody tr th:only-of-type {\n",
              "        vertical-align: middle;\n",
              "    }\n",
              "\n",
              "    .dataframe tbody tr th {\n",
              "        vertical-align: top;\n",
              "    }\n",
              "\n",
              "    .dataframe thead th {\n",
              "        text-align: right;\n",
              "    }\n",
              "</style>\n",
              "<table border=\"1\" class=\"dataframe\">\n",
              "  <thead>\n",
              "    <tr style=\"text-align: right;\">\n",
              "      <th></th>\n",
              "      <th>Sl no</th>\n",
              "      <th>Tweets</th>\n",
              "      <th>Search key</th>\n",
              "      <th>Feeling</th>\n",
              "      <th>TT</th>\n",
              "      <th>cleanD</th>\n",
              "      <th>Emoji_replace</th>\n",
              "      <th>text_token</th>\n",
              "      <th>pos</th>\n",
              "      <th>text_lemma</th>\n",
              "    </tr>\n",
              "  </thead>\n",
              "  <tbody>\n",
              "    <tr>\n",
              "      <th>0</th>\n",
              "      <td>1</td>\n",
              "      <td>#1: @fe ed \"RT @MirayaDizon1: Time is ticking...</td>\n",
              "      <td>happy moments</td>\n",
              "      <td>happy</td>\n",
              "      <td>#1: @fe ed \"RT @MirayaDizon1: Time is ticking ...</td>\n",
              "      <td>time ticking fast relive past moments joy ever...</td>\n",
              "      <td>#1: @fe ed \"RT @MirayaDizon1: Time is ticking ...</td>\n",
              "      <td>[time, ticking, fast, relive, past, moments, j...</td>\n",
              "      <td>[(time, n), (ticking, v), (fast, r), (relive, ...</td>\n",
              "      <td>time tick fast relive past moment joy everyo...</td>\n",
              "    </tr>\n",
              "    <tr>\n",
              "      <th>1</th>\n",
              "      <td>2</td>\n",
              "      <td>#2: @蓮花 &amp;はすか ed \"RT @ninjaryugo: ＃コナモンの日 だそうで...</td>\n",
              "      <td>happy moments</td>\n",
              "      <td>happy</td>\n",
              "      <td># 2: @ Lotus Flower &amp; Hasuka ed \"RT @ninjaryug...</td>\n",
              "      <td>lotus flower hasuka seems konamon day reiterat...</td>\n",
              "      <td># 2: @ Lotus Flower &amp; Hasuka ed \"RT @ninjaryug...</td>\n",
              "      <td>[lotus, flower, hasuka, seems, konamon, day, r...</td>\n",
              "      <td>[(lotus, n), (flower, n), (hasuka, n), (seems,...</td>\n",
              "      <td>lotus flower hasuka seem konamon day reitera...</td>\n",
              "    </tr>\n",
              "    <tr>\n",
              "      <th>2</th>\n",
              "      <td>3</td>\n",
              "      <td>#3: @Ris ♡ ed \"Happy birthday to one smokin h...</td>\n",
              "      <td>happy moments</td>\n",
              "      <td>happy</td>\n",
              "      <td>#3: @Ris ♡ ed \"Happy birthday to one smokin ho...</td>\n",
              "      <td>birthday smokin hot mama hot love much lil ama...</td>\n",
              "      <td>#3: @Ris ♡ ed \"Happy birthday to one smokin ho...</td>\n",
              "      <td>[birthday, smokin, hot, mama, hot, love, much,...</td>\n",
              "      <td>[(birthday, a), (smokin, None), (hot, a), (mam...</td>\n",
              "      <td>birthday smokin hot mama hot love much lil a...</td>\n",
              "    </tr>\n",
              "    <tr>\n",
              "      <th>3</th>\n",
              "      <td>4</td>\n",
              "      <td>#4: @월월 [씍쯴사랑로봇] jwinnie is the best, cheer u...</td>\n",
              "      <td>happy moments</td>\n",
              "      <td>happy</td>\n",
              "      <td>#4: @월월 [씍쯴사랑로봇] jwinnie is the best, cheer up...</td>\n",
              "      <td>jwinnie best cheer jwinnie omg left min msgs a...</td>\n",
              "      <td>#4: @월월 [씍쯴사랑로봇] jwinnie is the best, cheer up...</td>\n",
              "      <td>[jwinnie, best, cheer, jwinnie, omg, left, min...</td>\n",
              "      <td>[(jwinnie, n), (best, a), (cheer, n), (jwinnie...</td>\n",
              "      <td>jwinnie best cheer jwinnie omg leave min msg...</td>\n",
              "    </tr>\n",
              "    <tr>\n",
              "      <th>4</th>\n",
              "      <td>5</td>\n",
              "      <td>#5: @Madhurima wth u vc♥ ed \"Good morning dea...</td>\n",
              "      <td>happy moments</td>\n",
              "      <td>happy</td>\n",
              "      <td>#5: @Madhurima wth u vc♥ ed \"Good morning dear...</td>\n",
              "      <td>wth u vcheart suit good morning dearred wishin...</td>\n",
              "      <td>#5: @Madhurima wth u vcheart_suit ed \"Good mor...</td>\n",
              "      <td>[wth, u, vcheart, suit, good, morning, dearred...</td>\n",
              "      <td>[(wth, n), (u, a), (vcheart, n), (suit, n), (g...</td>\n",
              "      <td>wth u vcheart suit good morning dearred wish...</td>\n",
              "    </tr>\n",
              "  </tbody>\n",
              "</table>\n",
              "</div>\n",
              "      <button class=\"colab-df-convert\" onclick=\"convertToInteractive('df-1963aa81-29df-482c-ad7c-13f03a68d472')\"\n",
              "              title=\"Convert this dataframe to an interactive table.\"\n",
              "              style=\"display:none;\">\n",
              "        \n",
              "  <svg xmlns=\"http://www.w3.org/2000/svg\" height=\"24px\"viewBox=\"0 0 24 24\"\n",
              "       width=\"24px\">\n",
              "    <path d=\"M0 0h24v24H0V0z\" fill=\"none\"/>\n",
              "    <path d=\"M18.56 5.44l.94 2.06.94-2.06 2.06-.94-2.06-.94-.94-2.06-.94 2.06-2.06.94zm-11 1L8.5 8.5l.94-2.06 2.06-.94-2.06-.94L8.5 2.5l-.94 2.06-2.06.94zm10 10l.94 2.06.94-2.06 2.06-.94-2.06-.94-.94-2.06-.94 2.06-2.06.94z\"/><path d=\"M17.41 7.96l-1.37-1.37c-.4-.4-.92-.59-1.43-.59-.52 0-1.04.2-1.43.59L10.3 9.45l-7.72 7.72c-.78.78-.78 2.05 0 2.83L4 21.41c.39.39.9.59 1.41.59.51 0 1.02-.2 1.41-.59l7.78-7.78 2.81-2.81c.8-.78.8-2.07 0-2.86zM5.41 20L4 18.59l7.72-7.72 1.47 1.35L5.41 20z\"/>\n",
              "  </svg>\n",
              "      </button>\n",
              "      \n",
              "  <style>\n",
              "    .colab-df-container {\n",
              "      display:flex;\n",
              "      flex-wrap:wrap;\n",
              "      gap: 12px;\n",
              "    }\n",
              "\n",
              "    .colab-df-convert {\n",
              "      background-color: #E8F0FE;\n",
              "      border: none;\n",
              "      border-radius: 50%;\n",
              "      cursor: pointer;\n",
              "      display: none;\n",
              "      fill: #1967D2;\n",
              "      height: 32px;\n",
              "      padding: 0 0 0 0;\n",
              "      width: 32px;\n",
              "    }\n",
              "\n",
              "    .colab-df-convert:hover {\n",
              "      background-color: #E2EBFA;\n",
              "      box-shadow: 0px 1px 2px rgba(60, 64, 67, 0.3), 0px 1px 3px 1px rgba(60, 64, 67, 0.15);\n",
              "      fill: #174EA6;\n",
              "    }\n",
              "\n",
              "    [theme=dark] .colab-df-convert {\n",
              "      background-color: #3B4455;\n",
              "      fill: #D2E3FC;\n",
              "    }\n",
              "\n",
              "    [theme=dark] .colab-df-convert:hover {\n",
              "      background-color: #434B5C;\n",
              "      box-shadow: 0px 1px 3px 1px rgba(0, 0, 0, 0.15);\n",
              "      filter: drop-shadow(0px 1px 2px rgba(0, 0, 0, 0.3));\n",
              "      fill: #FFFFFF;\n",
              "    }\n",
              "  </style>\n",
              "\n",
              "      <script>\n",
              "        const buttonEl =\n",
              "          document.querySelector('#df-1963aa81-29df-482c-ad7c-13f03a68d472 button.colab-df-convert');\n",
              "        buttonEl.style.display =\n",
              "          google.colab.kernel.accessAllowed ? 'block' : 'none';\n",
              "\n",
              "        async function convertToInteractive(key) {\n",
              "          const element = document.querySelector('#df-1963aa81-29df-482c-ad7c-13f03a68d472');\n",
              "          const dataTable =\n",
              "            await google.colab.kernel.invokeFunction('convertToInteractive',\n",
              "                                                     [key], {});\n",
              "          if (!dataTable) return;\n",
              "\n",
              "          const docLinkHtml = 'Like what you see? Visit the ' +\n",
              "            '<a target=\"_blank\" href=https://colab.research.google.com/notebooks/data_table.ipynb>data table notebook</a>'\n",
              "            + ' to learn more about interactive tables.';\n",
              "          element.innerHTML = '';\n",
              "          dataTable['output_type'] = 'display_data';\n",
              "          await google.colab.output.renderOutput(dataTable, element);\n",
              "          const docLink = document.createElement('div');\n",
              "          docLink.innerHTML = docLinkHtml;\n",
              "          element.appendChild(docLink);\n",
              "        }\n",
              "      </script>\n",
              "    </div>\n",
              "  </div>\n",
              "  "
            ]
          },
          "metadata": {},
          "execution_count": 208
        }
      ]
    },
    {
      "cell_type": "markdown",
      "source": [
        "labelling"
      ],
      "metadata": {
        "id": "3B1qrwUbwjbJ"
      }
    },
    {
      "cell_type": "code",
      "source": [
        "from sklearn.svm import SVC\n",
        "import matplotlib.pyplot as plt\n",
        "import time as t\n",
        "from sklearn.neural_network import MLPClassifier\n",
        "from sklearn.linear_model import LogisticRegression\n",
        "from sklearn.naive_bayes import MultinomialNB\n",
        "from sklearn.tree import DecisionTreeClassifier\n",
        "from sklearn.metrics import roc_curve, auc\n",
        "import seaborn as sns\n",
        "import plotly.express as px\n",
        "from sklearn.metrics import confusion_matrix\n",
        "import sklearn.metrics as mt\n",
        "import datetime as d"
      ],
      "metadata": {
        "id": "axSmrcge4WRV"
      },
      "execution_count": null,
      "outputs": []
    },
    {
      "cell_type": "code",
      "source": [
        "from sklearn.model_selection import train_test_split\n",
        "X_train,X_test,Y_train, Y_test = train_test_split(data[\"text_lemma\"], data[\"Feeling\"], test_size=0.3, random_state=30)\n",
        "print(\"Train: \",X_train.shape,Y_train.shape,\"Test:\",(X_test.shape,Y_test.shape))"
      ],
      "metadata": {
        "colab": {
          "base_uri": "https://localhost:8080/"
        },
        "id": "d9Nbo3ot0YUZ",
        "outputId": "01d435a0-36a9-42c2-8c70-59298d06a169"
      },
      "execution_count": null,
      "outputs": [
        {
          "output_type": "stream",
          "name": "stdout",
          "text": [
            "Train:  (7011,) (7011,) Test: ((3006,), (3006,))\n"
          ]
        }
      ]
    },
    {
      "cell_type": "code",
      "source": [
        "print(\"TFIDF Vectorizer……\")\n",
        "from sklearn.feature_extraction.text import TfidfVectorizer\n",
        "vectorizer= TfidfVectorizer()\n",
        "tf_x_train = vectorizer.fit_transform(X_train)\n",
        "tf_x_test = vectorizer.transform(X_test)"
      ],
      "metadata": {
        "colab": {
          "base_uri": "https://localhost:8080/"
        },
        "id": "j8vFr9kk1I89",
        "outputId": "a6a54b39-b2da-4679-cfe9-1fe9971c4323"
      },
      "execution_count": null,
      "outputs": [
        {
          "output_type": "stream",
          "name": "stdout",
          "text": [
            "TFIDF Vectorizer……\n"
          ]
        }
      ]
    },
    {
      "cell_type": "code",
      "source": [
        "X_train = tf_x_train\n",
        "X_test = tf_x_test\n",
        "y_train = Y_train\n",
        "y_test = Y_test"
      ],
      "metadata": {
        "id": "0aHKQyH83WRC"
      },
      "execution_count": null,
      "outputs": []
    },
    {
      "cell_type": "code",
      "source": [
        "#MLP\n",
        "start=d.datetime.now()\n",
        "nn = MLPClassifier(alpha=0.002,solver='lbfgs',random_state=1,learning_rate_init=0.25)\n",
        "nn.fit(X_train, y_train)\n",
        "pred = nn.predict(X_test)\n",
        "print('Elapsed time: ',str(d.datetime.now()-start))\n",
        "print('Accracy score:',mt.accuracy_score(y_test, pred))"
      ],
      "metadata": {
        "colab": {
          "base_uri": "https://localhost:8080/"
        },
        "id": "48XwOFeQ39WF",
        "outputId": "5c161b89-88bf-449b-a332-6344f8a7715d"
      },
      "execution_count": null,
      "outputs": [
        {
          "output_type": "stream",
          "name": "stdout",
          "text": [
            "Elapsed time:  0:01:24.815391\n",
            "Accracy score: 0.8592814371257484\n"
          ]
        }
      ]
    },
    {
      "cell_type": "code",
      "source": [
        "#SVM\n",
        "start=d.datetime.now()\n",
        "svm = SVC()\n",
        "svm.fit(X_train, y_train)\n",
        "pred = svm.predict(X_test)\n",
        "print('Elapsed time: ',str(d.datetime.now()-start))\n",
        "print('Accracy score:',mt.accuracy_score(y_test, pred))"
      ],
      "metadata": {
        "colab": {
          "base_uri": "https://localhost:8080/"
        },
        "id": "XMeYd3XL39TX",
        "outputId": "f113adc9-5eba-4b1c-96dc-2f8b44f9cdd1"
      },
      "execution_count": null,
      "outputs": [
        {
          "output_type": "stream",
          "name": "stdout",
          "text": [
            "Elapsed time:  0:00:19.021272\n",
            "Accracy score: 0.8266799733865602\n"
          ]
        }
      ]
    },
    {
      "cell_type": "code",
      "source": [
        "#logistic Regression\n",
        "start=d.datetime.now()\n",
        "lr = LogisticRegression(tol=0.002)\n",
        "lr.fit(X_train, y_train)\n",
        "pred = lr.predict(X_test)\n",
        "print('Elapsed time: ',str(d.datetime.now()-start))\n",
        "print('Accracy score:',mt.accuracy_score(y_test, pred))"
      ],
      "metadata": {
        "colab": {
          "base_uri": "https://localhost:8080/"
        },
        "id": "klrf8FTy39OD",
        "outputId": "454a739f-f1e1-4e49-bb83-a810076913ee"
      },
      "execution_count": null,
      "outputs": [
        {
          "output_type": "stream",
          "name": "stdout",
          "text": [
            "Elapsed time:  0:00:04.117370\n",
            "Accracy score: 0.8320026613439787\n"
          ]
        },
        {
          "output_type": "stream",
          "name": "stderr",
          "text": [
            "/usr/local/lib/python3.7/dist-packages/sklearn/linear_model/_logistic.py:818: ConvergenceWarning: lbfgs failed to converge (status=1):\n",
            "STOP: TOTAL NO. of ITERATIONS REACHED LIMIT.\n",
            "\n",
            "Increase the number of iterations (max_iter) or scale the data as shown in:\n",
            "    https://scikit-learn.org/stable/modules/preprocessing.html\n",
            "Please also refer to the documentation for alternative solver options:\n",
            "    https://scikit-learn.org/stable/modules/linear_model.html#logistic-regression\n",
            "  extra_warning_msg=_LOGISTIC_SOLVER_CONVERGENCE_MSG,\n"
          ]
        }
      ]
    },
    {
      "cell_type": "code",
      "source": [
        "#naive bayes\n",
        "start=d.datetime.now()\n",
        "nb= MultinomialNB()\n",
        "nb.fit(X_train, y_train)\n",
        "pred = nb.predict(X_test)\n",
        "print('Elapsed time: ',str(d.datetime.now()-start))\n",
        "print('Accracy score:',mt.accuracy_score(y_test, pred))"
      ],
      "metadata": {
        "colab": {
          "base_uri": "https://localhost:8080/"
        },
        "id": "xpsetPM-4IQd",
        "outputId": "d9a8a10b-d35e-403d-ea42-843a5717cdbc"
      },
      "execution_count": null,
      "outputs": [
        {
          "output_type": "stream",
          "name": "stdout",
          "text": [
            "Elapsed time:  0:00:00.067035\n",
            "Accracy score: 0.6713240186294078\n"
          ]
        }
      ]
    },
    {
      "cell_type": "code",
      "source": [
        "# decision tree\n",
        "start=d.datetime.now()\n",
        "dt = DecisionTreeClassifier()\n",
        "dt.fit(X_train, y_train)\n",
        "pred = dt.predict(X_test)\n",
        "print('Elapsed time: ',str(d.datetime.now()-start))\n",
        "print('Accracy score:',mt.accuracy_score(y_test, pred))"
      ],
      "metadata": {
        "colab": {
          "base_uri": "https://localhost:8080/"
        },
        "id": "AYq0fuUj4INW",
        "outputId": "97cca8ac-99de-4fe7-f90f-c54e6fe9d258"
      },
      "execution_count": null,
      "outputs": [
        {
          "output_type": "stream",
          "name": "stdout",
          "text": [
            "Elapsed time:  0:00:02.953343\n",
            "Accracy score: 0.8419827012641384\n"
          ]
        }
      ]
    },
    {
      "cell_type": "code",
      "source": [
        "lr_cm=confusion_matrix(y_test.values, lr.predict(X_test))\n",
        "nb_cm=confusion_matrix(y_test.values, nb.predict(X_test))\n",
        "svm_cm=confusion_matrix(y_test.values, svm.predict(X_test))\n",
        "nn_cm=confusion_matrix(y_test.values, nn.predict(X_test))\n",
        "knn_cm=confusion_matrix(y_test.values, neigh.predict(X_test))\n",
        "dt_cm=confusion_matrix(y_test.values, dt.predict(X_test))\n",
        "plt.figure(figsize=(15,12))\n",
        "plt.suptitle(\"Confusion Matrices\",fontsize=24)\n",
        "\n",
        "plt.subplot(2,2,1)\n",
        "plt.title(\"Logistic Regression\")\n",
        "sns.heatmap(lr_cm, annot = True, cmap=\"Blues\",cbar=False);\n",
        "plt.xlabel('Predicted Value')\n",
        "plt.ylabel('Actual Value')\n",
        "\n",
        "plt.subplot(2,2,2)\n",
        "plt.title(\"Naive Bayes\")\n",
        "sns.heatmap(nb_cm, annot = True, cmap=\"pink\",cbar=False);\n",
        "plt.xlabel('Predicted Value')\n",
        "plt.ylabel('Actual Value')\n",
        "\n",
        "plt.subplot(2,2,3)\n",
        "plt.title(\"Support Vector Machine (SVM)\")\n",
        "sns.heatmap(svm_cm, annot = True, cmap=\"inferno\",cbar=False);\n",
        "plt.xlabel('Predicted Value')\n",
        "plt.ylabel('Actual Value')\n",
        "\n",
        "plt.subplot(2,2,4)\n",
        "plt.title(\"Neural Network\")\n",
        "sns.heatmap(nn_cm, annot = True, cmap=\"cividis\",cbar=False);\n",
        "plt.xlabel('Predicted Value')\n",
        "plt.ylabel('Actual Value')\n"
      ],
      "metadata": {
        "colab": {
          "base_uri": "https://localhost:8080/",
          "height": 818
        },
        "id": "_VmmPbEN4IJs",
        "outputId": "8800e626-4287-4a8e-abc7-c694bd0914b4"
      },
      "execution_count": null,
      "outputs": [
        {
          "output_type": "execute_result",
          "data": {
            "text/plain": [
              "Text(570.5454545454544, 0.5, 'Actual Value')"
            ]
          },
          "metadata": {},
          "execution_count": 230
        },
        {
          "output_type": "display_data",
          "data": {
            "text/plain": [
              "<Figure size 1080x864 with 4 Axes>"
            ],
            "image/png": "[encoded data removed]"
          },
          "metadata": {
            "needs_background": "light"
          }
        }
      ]
    },
    {
      "cell_type": "code",
      "source": [
        "plt.figure(figsize=(15,12))\n",
        "plt.suptitle(\"Confusion Matrices\",fontsize=24)\n",
        "plt.subplot(2,2,1)\n",
        "plt.title(\"Decision Tree\")\n",
        "sns.heatmap(dt_cm, annot = True, cmap=\"Wistia_r\",cbar=False);\n",
        "plt.xlabel('Predicted Value')\n",
        "plt.ylabel('Actual Value')\n"
      ],
      "metadata": {
        "colab": {
          "base_uri": "https://localhost:8080/",
          "height": 462
        },
        "id": "E4adAKxk4IGq",
        "outputId": "808488d7-7cc9-4240-906d-69ae07928993"
      },
      "execution_count": null,
      "outputs": [
        {
          "output_type": "execute_result",
          "data": {
            "text/plain": [
              "Text(114.0, 0.5, 'Actual Value')"
            ]
          },
          "metadata": {},
          "execution_count": 234
        },
        {
          "output_type": "display_data",
          "data": {
            "text/plain": [
              "<Figure size 1080x864 with 1 Axes>"
            ],
            "image/png": "[encoded data removed]"
          },
          "metadata": {
            "needs_background": "light"
          }
        }
      ]
    },
    {
      "cell_type": "code",
      "source": [
        "print(\"Logistic Regression\")\n",
        "print(mt.classification_report(y_test, lr.predict(X_test)))\n",
        "print(\"\\n Naive Bayes\")\n",
        "print(mt.classification_report(y_test, nb.predict(X_test)))\n",
        "print(\"\\n Support Vector Machine (SVM)\")\n",
        "print(mt.classification_report(y_test, svm.predict(X_test)))\n",
        "print(\"\\n Neural Network\")\n",
        "print(mt.classification_report(y_test, nn.predict(X_test)))\n",
        "print(\"\\n Decision Tree\")\n",
        "print(mt.classification_report(y_test, dt.predict(X_test)))"
      ],
      "metadata": {
        "colab": {
          "base_uri": "https://localhost:8080/"
        },
        "id": "XwDH5r4s4IDV",
        "outputId": "10f65217-98ee-4f19-995d-7d1d966ec70e"
      },
      "execution_count": null,
      "outputs": [
        {
          "output_type": "stream",
          "name": "stdout",
          "text": [
            "Logistic Regression\n",
            "              precision    recall  f1-score   support\n",
            "\n",
            "       angry       0.97      0.76      0.85       429\n",
            "     disgust       0.99      0.65      0.79       166\n",
            "        fear       0.95      0.60      0.73       249\n",
            "       happy       0.76      0.95      0.85      1173\n",
            "         sad       0.84      0.85      0.85       858\n",
            "    surprise       1.00      0.55      0.71       131\n",
            "\n",
            "    accuracy                           0.83      3006\n",
            "   macro avg       0.92      0.73      0.80      3006\n",
            "weighted avg       0.85      0.83      0.83      3006\n",
            "\n",
            "\n",
            " Naive Bayes\n",
            "              precision    recall  f1-score   support\n",
            "\n",
            "       angry       0.97      0.28      0.44       429\n",
            "     disgust       1.00      0.32      0.48       166\n",
            "        fear       1.00      0.24      0.39       249\n",
            "       happy       0.59      0.96      0.73      1173\n",
            "         sad       0.76      0.72      0.74       858\n",
            "    surprise       1.00      0.26      0.41       131\n",
            "\n",
            "    accuracy                           0.67      3006\n",
            "   macro avg       0.89      0.46      0.53      3006\n",
            "weighted avg       0.77      0.67      0.64      3006\n",
            "\n",
            "\n",
            " Support Vector Machine (SVM)\n",
            "              precision    recall  f1-score   support\n",
            "\n",
            "       angry       0.98      0.74      0.84       429\n",
            "     disgust       0.99      0.61      0.76       166\n",
            "        fear       0.91      0.58      0.71       249\n",
            "       happy       0.73      0.96      0.83      1173\n",
            "         sad       0.89      0.83      0.86       858\n",
            "    surprise       0.99      0.61      0.75       131\n",
            "\n",
            "    accuracy                           0.83      3006\n",
            "   macro avg       0.91      0.72      0.79      3006\n",
            "weighted avg       0.85      0.83      0.82      3006\n",
            "\n",
            "\n",
            " Neural Network\n",
            "              precision    recall  f1-score   support\n",
            "\n",
            "       angry       0.91      0.84      0.87       429\n",
            "     disgust       0.88      0.89      0.88       166\n",
            "        fear       0.72      0.84      0.78       249\n",
            "       happy       0.88      0.86      0.87      1173\n",
            "         sad       0.83      0.87      0.85       858\n",
            "    surprise       0.95      0.85      0.90       131\n",
            "\n",
            "    accuracy                           0.86      3006\n",
            "   macro avg       0.86      0.86      0.86      3006\n",
            "weighted avg       0.86      0.86      0.86      3006\n",
            "\n",
            "\n",
            " Decision Tree\n",
            "              precision    recall  f1-score   support\n",
            "\n",
            "       angry       0.89      0.88      0.88       429\n",
            "     disgust       0.89      0.90      0.90       166\n",
            "        fear       0.63      0.84      0.72       249\n",
            "       happy       0.87      0.82      0.84      1173\n",
            "         sad       0.86      0.85      0.85       858\n",
            "    surprise       0.86      0.83      0.84       131\n",
            "\n",
            "    accuracy                           0.84      3006\n",
            "   macro avg       0.83      0.85      0.84      3006\n",
            "weighted avg       0.85      0.84      0.84      3006\n",
            "\n"
          ]
        }
      ]
    }
  ]
}